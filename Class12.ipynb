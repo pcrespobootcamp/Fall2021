{
 "cells": [
  {
   "cell_type": "markdown",
   "id": "b04e6f69-308d-406a-b7f8-66fa9a0236ae",
   "metadata": {},
   "source": [
    "# Splitting data to avoid overfitting!\n",
    "\n",
    "\n",
    "A way to avoid overfitting is by splitting your data randomly into two subsets:\n",
    "\n",
    "* Train data: The data that we fit our model on and decide the way in which predictions are made\n",
    "\n",
    "* Test data: The data that we will use to check how well we are doing\n",
    "\n",
    "Since we did not fit our model with the test data, the goodness of fit results (our score or $R^2$ lets us know how well the model we fitted works on data it has never seen.\n",
    "\n",
    "This split is why we usually say \"we are training the model\" meaning we fit on training data. \n",
    "\n",
    "\n",
    "We will do one more exploration with the 2016 election data. "
   ]
  },
  {
   "cell_type": "code",
   "execution_count": null,
   "id": "109f87e1-1d3e-40b4-b120-ee6d20294375",
   "metadata": {},
   "outputs": [],
   "source": [
    "import pandas as pd\n",
    "import numpy as np\n",
    "from plotnine import *\n",
    "%matplotlib inline\n",
    "from sklearn.neighbors import KNeighborsRegressor as knn"
   ]
  },
  {
   "cell_type": "code",
   "execution_count": null,
   "id": "9dc68cd6-38fb-4840-afaa-06699bc93562",
   "metadata": {},
   "outputs": [],
   "source": [
    "#Let's load the election dataframe\n",
    "\n",
    "url = 'https://raw.githubusercontent.com/mwaugh0328/Data_Bootcamp_Fall_2017/master/data_bootcamp_1127/trump_data.csv'\n",
    "df = pd.read_csv(url,encoding='latin-1',index_col=0)\n",
    "df = df.dropna(subset=['income'])\n",
    "df['lnpop'] = np.log(df['population'])\n",
    "df.head()\n"
   ]
  },
  {
   "cell_type": "code",
   "execution_count": null,
   "id": "b3414690-973e-4f2b-8d95-075f981988a4",
   "metadata": {},
   "outputs": [],
   "source": [
    "#Let's do a really overfitting model, let's use just 2 \n",
    "#neighbors!\n",
    "sklearn_knn = knn(n_neighbors=2).fit(X=df[['lnpop']],y=df['trump_share'])\n",
    "\n",
    "#Let's get our fit score\n",
    "\n",
    "sklearn_knn.score(X=df[['lnpop']],y=df['trump_share'])\n"
   ]
  },
  {
   "cell_type": "code",
   "execution_count": null,
   "id": "1f42d273-2a06-4c68-bcd4-470026405f41",
   "metadata": {},
   "outputs": [],
   "source": [
    "df['pred_knn'] = sklearn_knn.predict(df[['lnpop']])\n"
   ]
  },
  {
   "cell_type": "code",
   "execution_count": null,
   "id": "e4cd34dd-20aa-4a02-805a-5ff274f2a681",
   "metadata": {},
   "outputs": [],
   "source": [
    "#plot\n",
    "(ggplot(df, aes(x='lnpop', y='trump_share'))+\n",
    "       geom_point(color='steelblue')+\n",
    " geom_line(aes(x='lnpop', y='pred_knn'), color='darkorange' )+\n",
    " theme_bw()\n",
    "       )\n"
   ]
  },
  {
   "cell_type": "code",
   "execution_count": null,
   "id": "45c2a8ad-1f2b-4587-9f33-7840838b7f90",
   "metadata": {},
   "outputs": [],
   "source": [
    "#This is the module we will need\n",
    "\n",
    "from sklearn.model_selection import train_test_split"
   ]
  },
  {
   "cell_type": "code",
   "execution_count": null,
   "id": "9fd27b0f-3f7f-4de6-a5b4-2148efeb25ab",
   "metadata": {},
   "outputs": [],
   "source": [
    "train, test = train_test_split(df,\n",
    "                               test_size=0.2, \n",
    "                               random_state=42,\n",
    "                               shuffle=True)\n"
   ]
  },
  {
   "cell_type": "code",
   "execution_count": null,
   "id": "6ffead48-ab1d-49b6-9c8f-049de7e55697",
   "metadata": {},
   "outputs": [],
   "source": [
    "print(\"The size of the election dataset\", df.shape[0])\n",
    "print(\"The size of the train dataset\", train.shape[0])\n",
    "print(\"The size of the test dataset\",test.shape[0] )"
   ]
  },
  {
   "cell_type": "code",
   "execution_count": null,
   "id": "25dd5932-94a7-4305-87c8-6f44a6923841",
   "metadata": {},
   "outputs": [],
   "source": [
    "#Let's use a 5neighbor model to see how it works\n",
    "\n",
    "#For the train data\n",
    "knn(n_neighbors=5).fit(train[['lnpop']],\n",
    "                       train['trump_share']).score(train[['lnpop']],\n",
    "                                                   train['trump_share'])"
   ]
  },
  {
   "cell_type": "code",
   "execution_count": null,
   "id": "1d944306-39eb-49ff-9e80-62c5fa9c13aa",
   "metadata": {},
   "outputs": [],
   "source": [
    "#And fitting on the train data and scoring on the test data\n",
    "\n",
    "knn(n_neighbors=5).fit(train[['lnpop']],\n",
    "                       train['trump_share']).score(test[['lnpop']],\n",
    "                                                   test['trump_share'])\n",
    "\n"
   ]
  },
  {
   "cell_type": "code",
   "execution_count": null,
   "id": "ae473264-1d65-4bd6-a712-b4c302e514e7",
   "metadata": {},
   "outputs": [],
   "source": [
    "#Let's look at the scores for different numbers of neighbors\n",
    "\n",
    "scoretrain=[knn(n_neighbors=i).fit(train[['lnpop']],\n",
    "            train['trump_share']).score(train[['lnpop']],\n",
    "            train['trump_share']) for i in list(range(5, 500, 2))]\n"
   ]
  },
  {
   "cell_type": "code",
   "execution_count": null,
   "id": "e8e2d263-54f1-4d62-8022-1d9db9c33bab",
   "metadata": {},
   "outputs": [],
   "source": [
    "trainscore=pd.DataFrame(scoretrain, columns=[\"score\"])\n",
    "\n",
    "trainscore['datsplit']='Training'\n",
    "trainscore['neighbors']=list(range(5, 500, 2))"
   ]
  },
  {
   "cell_type": "code",
   "execution_count": null,
   "id": "d507b88b-c550-493e-9a0a-c3a332fdb802",
   "metadata": {},
   "outputs": [],
   "source": [
    "trainscore.head()"
   ]
  },
  {
   "cell_type": "code",
   "execution_count": null,
   "id": "361c76d4-a17e-4e7b-a06d-b6d9ccba4427",
   "metadata": {},
   "outputs": [],
   "source": [
    "#Now, let's look at the scores on the testing split\n",
    "\n",
    "scoretest=[knn(n_neighbors=i).fit(train[['lnpop']],\n",
    "            train['trump_share']).score(test[['lnpop']],\n",
    "            test['trump_share']) for i in list(range(5, 500, 2))]\n",
    "\n",
    "\n"
   ]
  },
  {
   "cell_type": "code",
   "execution_count": null,
   "id": "fa267d57-b1dc-4c8d-9d47-e3255cd66ebf",
   "metadata": {},
   "outputs": [],
   "source": [
    "testscore=pd.DataFrame(scoretest, columns=[\"score\"])\n",
    "\n",
    "testscore['datsplit']='Testing'\n",
    "\n",
    "testscore['neighbors']=list(range(5, 500, 2))"
   ]
  },
  {
   "cell_type": "code",
   "execution_count": null,
   "id": "a5bab74f-8573-4965-a01f-55c8624684d4",
   "metadata": {},
   "outputs": [],
   "source": [
    "testscore.head()"
   ]
  },
  {
   "cell_type": "code",
   "execution_count": null,
   "id": "ecf5c167-68cc-4940-b4fc-42543defcf8a",
   "metadata": {},
   "outputs": [],
   "source": [
    "score_df=pd.concat([trainscore,testscore], axis=0)\n",
    "\n",
    "score_df.tail()"
   ]
  },
  {
   "cell_type": "code",
   "execution_count": null,
   "id": "6f572a78-cbcf-4556-ac59-fc66e2f61404",
   "metadata": {},
   "outputs": [],
   "source": [
    "(ggplot(score_df, aes(x='neighbors', y='score', color='datsplit'))+\n",
    "geom_line()+\n",
    "scale_color_manual(values=['darkorange', 'steelblue'])+\n",
    " theme_bw()\n",
    ")"
   ]
  },
  {
   "cell_type": "code",
   "execution_count": null,
   "id": "519d2111-2eda-43dc-9d3f-18f67a3a89c1",
   "metadata": {},
   "outputs": [],
   "source": [
    "(ggplot(testscore, aes(x='neighbors', y='score'))+\n",
    "geom_line(color='darkorange')+\n",
    " theme_bw()\n",
    ")"
   ]
  },
  {
   "cell_type": "code",
   "execution_count": null,
   "id": "114b10e5-22d6-4cb9-8246-9814b2a0a524",
   "metadata": {},
   "outputs": [],
   "source": [
    "testscore['score'].max()"
   ]
  },
  {
   "cell_type": "code",
   "execution_count": null,
   "id": "94b5358e-8e32-4de7-bbeb-020ca8e8b91d",
   "metadata": {},
   "outputs": [],
   "source": [
    "#What is the optimal number of neighbors\n",
    "testscore.loc[testscore['score']==testscore['score'].max(), \n",
    "              'neighbors']"
   ]
  },
  {
   "cell_type": "markdown",
   "id": "618ba559-1cf4-40d1-8b22-5b16062b1084",
   "metadata": {},
   "source": [
    "Could we do this in a more automatic way that is not totally dependent on getting lucky that the split is representative?\n"
   ]
  },
  {
   "cell_type": "markdown",
   "id": "8ebbb3ee-2b0c-492c-a5a8-203e99aaf386",
   "metadata": {},
   "source": [
    "#### Train_test_split\n",
    "\n",
    "What we have done\n",
    "\n",
    "Shuffle\n",
    "\n",
    "\n",
    "2 groups: A (train), B (test)\n",
    "\n",
    "\n",
    "\n",
    "To find the hyperparameters that give us the best result, we get the scores of this split by testing several and finding the one that does best\n"
   ]
  },
  {
   "cell_type": "markdown",
   "id": "79c979e2-fe5e-4c17-9987-dfad9b746afb",
   "metadata": {},
   "source": [
    "#### Cross_validation\n",
    "\n",
    "Shuffle\n",
    "\n",
    "4 groups: A, B, C, D\n",
    "\n",
    "1) train on A,B,C ; test on D\n",
    "\n",
    "\n",
    "2) train on A,B,D ; test on C\n",
    "\n",
    "\n",
    "3) train on A,C,D ; test on B\n",
    "\n",
    "\n",
    "4) train on B,C,D ; test on A\n",
    "\n",
    "\n",
    "To find the hyperparameters that are optimal we find the scores for a large range of hyperparameters, find the average of all the test scores and we use set the means for each. Then our best hyperparameter value will be the one matched to that mean."
   ]
  },
  {
   "cell_type": "code",
   "execution_count": null,
   "id": "90073b15-ca31-4aac-8ca7-5e50269b9a31",
   "metadata": {},
   "outputs": [],
   "source": [
    "from sklearn.model_selection import cross_val_score"
   ]
  },
  {
   "cell_type": "code",
   "execution_count": null,
   "id": "e2839fa4-bf66-4e80-a608-5561e49e36bd",
   "metadata": {},
   "outputs": [],
   "source": [
    "#Let's do crossvalidation scores for a single value \n",
    "# (10 neighbors) and 5 groups\n",
    "\n",
    "cross_val_score(knn(n_neighbors=10),X=df[['lnpop']],\n",
    "                y=df['trump_share'],cv=5)\n"
   ]
  },
  {
   "cell_type": "code",
   "execution_count": null,
   "id": "644215b0-4024-49f9-8bf5-234e3ad1773d",
   "metadata": {},
   "outputs": [],
   "source": [
    "#Let's obtain the mean\n",
    "\n",
    "cross_val_score(knn(n_neighbors=10),X=df[['lnpop']],\n",
    "                y=df['trump_share'],cv=5).mean()\n"
   ]
  },
  {
   "cell_type": "code",
   "execution_count": null,
   "id": "279afb56-2760-4357-87e0-5d2e7b61ca6c",
   "metadata": {},
   "outputs": [],
   "source": [
    "scoreCV=[cross_val_score(knn(n_neighbors=i),X=df[['lnpop']],\n",
    "                y=df['trump_share'],\n",
    "                         cv=5).mean() for i in list(range(5, 500))]\n",
    "\n"
   ]
  },
  {
   "cell_type": "code",
   "execution_count": null,
   "id": "3757713c-5350-4d37-9fae-2385a3f31ef2",
   "metadata": {},
   "outputs": [],
   "source": [
    "df_CV=pd.DataFrame(scoreCV, columns=['scores'])\n",
    "df_CV['neighbors']=list(range(5, 500))\n",
    "\n",
    "df_CV.head()"
   ]
  },
  {
   "cell_type": "code",
   "execution_count": null,
   "id": "5686de77-545f-40a4-9c1c-58861bec33f1",
   "metadata": {},
   "outputs": [],
   "source": [
    "(ggplot(df_CV, aes(x='neighbors', y='scores'))+\n",
    " geom_line(color='darkorange')+\n",
    "theme_bw())"
   ]
  },
  {
   "cell_type": "code",
   "execution_count": null,
   "id": "37699f63-8c3f-471b-9d6e-3099c5a6908b",
   "metadata": {},
   "outputs": [],
   "source": [
    "#What is the max score?\n",
    "\n",
    "df_CV.scores.max()"
   ]
  },
  {
   "cell_type": "code",
   "execution_count": null,
   "id": "1cde878c-502f-414e-a942-96074dc5f03a",
   "metadata": {},
   "outputs": [],
   "source": [
    "#Let's get the optimal neighbors\n",
    "\n",
    "df_CV.loc[df_CV['scores']==df_CV.scores.max(), 'neighbors']"
   ]
  },
  {
   "cell_type": "markdown",
   "id": "6d394e13-85b7-46d5-8c1e-e6c1df79aed1",
   "metadata": {},
   "source": [
    "We have 130 neighbors!!!\n"
   ]
  },
  {
   "cell_type": "code",
   "execution_count": null,
   "id": "ae2ec9f3-a0c7-41a8-bd37-bb5fca13a990",
   "metadata": {},
   "outputs": [],
   "source": [
    "#Let's drop the prediction column\n",
    "\n",
    "df.drop(columns=['pred_knn'], inplace=True)"
   ]
  },
  {
   "cell_type": "code",
   "execution_count": null,
   "id": "035ce1b9-6a45-4ee5-9a61-5cb58066d215",
   "metadata": {},
   "outputs": [],
   "source": [
    "#Let's replace it with the 130 neighbors\n",
    "\n",
    "df['pred_knn']=knn(n_neighbors=130).fit(X=df[['lnpop']],\n",
    "                       y=df['trump_share']).predict(df[['lnpop']])\n"
   ]
  },
  {
   "cell_type": "code",
   "execution_count": null,
   "id": "73c198ec-e1f0-4fad-8c58-a3eb846e3497",
   "metadata": {},
   "outputs": [],
   "source": [
    "(ggplot(df, aes(x='lnpop', y='trump_share'))+\n",
    "       geom_point(color='steelblue')+\n",
    " geom_line(aes(x='lnpop', y='pred_knn'), color='darkorange' )+\n",
    " theme_bw()\n",
    "       )"
   ]
  },
  {
   "cell_type": "code",
   "execution_count": null,
   "id": "639b9ed7-d09c-4e31-a1bd-65f4cf5a96d4",
   "metadata": {},
   "outputs": [],
   "source": [
    " from sklearn.ensemble import RandomForestRegressor as rf"
   ]
  },
  {
   "cell_type": "code",
   "execution_count": null,
   "id": "d0c63853-012c-43f1-be8e-3ad6f1d2b373",
   "metadata": {},
   "outputs": [],
   "source": [
    "# We will set the number of estimators fixed at 100\n",
    "# and iterate in the tree depth up to seven\n",
    "\n",
    "\n",
    "scoresrf=[cross_val_score(rf(n_estimators=100,max_depth=i),\n",
    "                          df[['lnpop']],df['trump_share'],\n",
    "                          cv=5).mean() for i in list(range(1,7))\n",
    "    ]"
   ]
  },
  {
   "cell_type": "code",
   "execution_count": null,
   "id": "b2823f24-dfd5-4613-a87e-44aa4aec1dae",
   "metadata": {},
   "outputs": [],
   "source": [
    "rf_df=pd.DataFrame(scoresrf, columns=['scores'])\n",
    "\n",
    "rf_df['depth']=list(range(1,7))"
   ]
  },
  {
   "cell_type": "code",
   "execution_count": null,
   "id": "ea0e0cd1-3f61-48e4-8bea-4135d9e70cf8",
   "metadata": {},
   "outputs": [],
   "source": [
    "rf_df"
   ]
  },
  {
   "cell_type": "code",
   "execution_count": null,
   "id": "258ed872-965c-4a6a-b79c-525b221054f6",
   "metadata": {},
   "outputs": [],
   "source": [
    "(ggplot(rf_df, aes(x='depth', y='scores'))+\n",
    "geom_line(color='darkorange')+\n",
    "theme_bw())"
   ]
  },
  {
   "cell_type": "code",
   "execution_count": null,
   "id": "58235201-d8d4-4c6b-8a77-93afe2367151",
   "metadata": {},
   "outputs": [],
   "source": [
    "#Let's find the maximum depth\n",
    "\n",
    "rf_df.loc[rf_df['scores']==rf_df.scores.max(), 'depth']"
   ]
  },
  {
   "cell_type": "code",
   "execution_count": null,
   "id": "93867a4b-501d-4639-b2d1-62058d2adc43",
   "metadata": {},
   "outputs": [],
   "source": [
    "# We see that the max depth of 3 works well!\n",
    "\n",
    "df['pred_rf']=rf(n_estimators=100,max_depth=3).fit(X=df[['lnpop']],\n",
    "                       y=df['trump_share']).predict(df[['lnpop']])\n"
   ]
  },
  {
   "cell_type": "code",
   "execution_count": null,
   "id": "a39d0da0-564a-4d42-b9e2-4496c32360cb",
   "metadata": {},
   "outputs": [],
   "source": [
    "(ggplot(df, aes(x='lnpop', y='trump_share'))+\n",
    "       geom_point(color='steelblue')+\n",
    " geom_line(aes(x='lnpop', y='pred_rf'), color='darkorange' )+\n",
    " theme_bw()\n",
    "       )"
   ]
  },
  {
   "cell_type": "code",
   "execution_count": null,
   "id": "68ac70cd-f35c-4df3-9c3e-096b73ce0eae",
   "metadata": {},
   "outputs": [],
   "source": [
    "#prepare dataframe\n",
    "\n",
    "plotdf=df[['lnpop', 'trump_share', 'pred_knn', 'pred_rf']]"
   ]
  },
  {
   "cell_type": "code",
   "execution_count": null,
   "id": "2ca6af4c-b960-4c63-9d96-353119ec5559",
   "metadata": {},
   "outputs": [],
   "source": [
    "plotdf1=pd.melt(plotdf, id_vars=['lnpop', 'trump_share'],\n",
    "                value_vars=[\"pred_knn\", \"pred_rf\"],\n",
    "                var_name='model', value_name=\"predictions\")"
   ]
  },
  {
   "cell_type": "code",
   "execution_count": null,
   "id": "61dacd41-1f14-4471-b400-058ccf13eea1",
   "metadata": {},
   "outputs": [],
   "source": [
    "plotdf1.head()"
   ]
  },
  {
   "cell_type": "code",
   "execution_count": null,
   "id": "132fdf4e-09da-49c2-9d0b-5dfe6de4cb30",
   "metadata": {},
   "outputs": [],
   "source": [
    "#Let's see how the optimal rnn and optimal rf match!\n",
    "\n",
    "\n",
    "(ggplot(plotdf1, aes(x='lnpop', y='trump_share', color='model'))+\n",
    " geom_point(color='lightgreen')+\n",
    "geom_line(aes(x='lnpop', y='predictions'), alpha=0.7, size=2)+\n",
    " scale_color_manual(values=['darkorange', 'steelblue'])+\n",
    "theme_bw())"
   ]
  },
  {
   "cell_type": "code",
   "execution_count": null,
   "id": "e5df5087-e02b-433e-98a5-c88718f08b21",
   "metadata": {},
   "outputs": [],
   "source": [
    "(ggplot(df, aes(x='pred_knn', y='pred_rf'))+\n",
    "       geom_point(color='darkorange', size=2)+\n",
    " geom_smooth(color='blue')+\n",
    "theme_bw())"
   ]
  },
  {
   "cell_type": "code",
   "execution_count": null,
   "id": "188fda60-e252-44a5-b142-465fd7db337b",
   "metadata": {},
   "outputs": [],
   "source": [
    "dfsq=df[['trump_share', 'pred_knn', 'pred_rf']].corr()**2\n",
    "dfsq"
   ]
  },
  {
   "cell_type": "code",
   "execution_count": null,
   "id": "31aa740f-7a3b-493a-b958-92eda8991bef",
   "metadata": {},
   "outputs": [],
   "source": [
    "#Let's make a heatmap\n",
    "\n",
    "listoflist = []\n",
    "for in1 in dfsq.index:\n",
    "    for in2 in dfsq.columns:\n",
    "        listoflist.append([in1, in2, dfsq.loc[in1, in2]])\n",
    "\n",
    "heatdf = pd.DataFrame(data=listoflist, columns=[\"att1\", \"att2\", \"R2\"])\n",
    "\n",
    "heatdf"
   ]
  },
  {
   "cell_type": "code",
   "execution_count": null,
   "id": "5419a737-478d-4dc5-be83-d36b93bc0b10",
   "metadata": {},
   "outputs": [],
   "source": [
    "(ggplot(data=heatdf, mapping= aes(x='att1', y='att2', fill='R2'))+\n",
    " geom_tile()+\n",
    " geom_text(aes(x='att1', y='att2', label='R2'),\n",
    "           format_string='{:.2f}',\n",
    "          color='red')\n",
    " )"
   ]
  },
  {
   "cell_type": "code",
   "execution_count": null,
   "id": "55a95fe3-2964-41c4-a24b-57cb58898692",
   "metadata": {},
   "outputs": [],
   "source": []
  }
 ],
 "metadata": {
  "kernelspec": {
   "display_name": "Python 3",
   "language": "python",
   "name": "python3"
  },
  "language_info": {
   "codemirror_mode": {
    "name": "ipython",
    "version": 3
   },
   "file_extension": ".py",
   "mimetype": "text/x-python",
   "name": "python",
   "nbconvert_exporter": "python",
   "pygments_lexer": "ipython3",
   "version": "3.8.8"
  }
 },
 "nbformat": 4,
 "nbformat_minor": 5
}
