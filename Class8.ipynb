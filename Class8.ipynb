{
 "cells": [
  {
   "cell_type": "code",
   "execution_count": null,
   "id": "b504f291-5d2d-4caa-9c61-893bf7d878f4",
   "metadata": {},
   "outputs": [],
   "source": [
    "import pandas as pd\n",
    "import numpy as np\n",
    "import plotnine\n",
    "from plotnine import *\n",
    "%matplotlib inline"
   ]
  },
  {
   "cell_type": "markdown",
   "id": "bede1204-80b9-499e-a740-eb5f78965662",
   "metadata": {},
   "source": [
    "## Load gapminder"
   ]
  },
  {
   "cell_type": "code",
   "execution_count": null,
   "id": "bf0d2c96-11f3-47ff-8c26-4e54bd46f86b",
   "metadata": {},
   "outputs": [],
   "source": [
    "g_url='https://raw.githubusercontent.com/swcarpentry/r-novice-gapminder/gh-pages/_episodes_rmd/data/gapminder-FiveYearData.csv'\n",
    "\n",
    "gapminder=pd.read_csv(g_url)"
   ]
  },
  {
   "cell_type": "code",
   "execution_count": null,
   "id": "7b88cc1f-9569-448b-9dbe-42c49b6e67c0",
   "metadata": {},
   "outputs": [],
   "source": [
    "gapminder.head()"
   ]
  },
  {
   "cell_type": "code",
   "execution_count": null,
   "id": "083c5d4c-a3a0-4133-8d02-65a17111ea80",
   "metadata": {},
   "outputs": [],
   "source": [
    "plotnine.options.figure_size = (9, 6)"
   ]
  },
  {
   "cell_type": "code",
   "execution_count": null,
   "id": "d0fb3e37-d0e5-4bfa-8329-20c10044b028",
   "metadata": {},
   "outputs": [],
   "source": [
    "#Current state of our plots\n",
    "\n",
    "(ggplot(data=gapminder.loc[gapminder['year']==2002], mapping=aes(x='gdpPercap', y='lifeExp',\n",
    "                                                                 color='continent',size='pop')) +\n",
    "        geom_point(alpha = 0.5)+\n",
    " scale_x_log10()+\n",
    " scale_size(range = [0.1, 30])+\n",
    " theme_bw()\n",
    ")\n",
    "\n"
   ]
  },
  {
   "cell_type": "code",
   "execution_count": null,
   "id": "1426a4aa-f92e-4c8b-b4a0-95f0c869fd61",
   "metadata": {},
   "outputs": [],
   "source": [
    "# Let's add the country names\n",
    "\n",
    "(ggplot(data=gapminder.loc[gapminder['year']==2002], mapping=aes(x='gdpPercap', y='lifeExp',\n",
    "                                                                 color='continent',size='pop')) +\n",
    "        geom_point(alpha = 0.5)+\n",
    " scale_x_log10()+\n",
    " scale_size(range = [0.1, 30])+\n",
    " theme_bw()+\n",
    "geom_text(aes(x='gdpPercap', y='lifeExp', label='country'))\n",
    "\n",
    ")\n"
   ]
  },
  {
   "cell_type": "code",
   "execution_count": null,
   "id": "8c7a7b22-303e-4b16-9fe2-ca42488b193c",
   "metadata": {},
   "outputs": [],
   "source": [
    "#This is a bit off, let's change the color\n",
    "\n",
    "# Let's add the country names\n",
    "\n",
    "(ggplot(data=gapminder.loc[gapminder['year']==2002], mapping=aes(x='gdpPercap', y='lifeExp',\n",
    "                                                                 color='continent',size='pop')) +\n",
    "        geom_point(alpha = 0.5)+\n",
    " scale_x_log10()+\n",
    " scale_size(range = [0.1, 30])+\n",
    " theme_bw()+\n",
    "geom_text(aes(x='gdpPercap', y='lifeExp', label='country'),\n",
    "         color='black')\n",
    "\n",
    ")\n"
   ]
  },
  {
   "cell_type": "code",
   "execution_count": null,
   "id": "8dc0c113-b102-4987-8614-0fcb9548f04d",
   "metadata": {},
   "outputs": [],
   "source": [
    "# I don't really like the fact that the size of text changes \n",
    "\n",
    "#This is a bit off, let's change the color\n",
    "\n",
    "# Let's add the country names\n",
    "\n",
    "(ggplot(data=gapminder.loc[gapminder['year']==2002], mapping=aes(x='gdpPercap', y='lifeExp',\n",
    "                                                                 color='continent',size='pop')) +\n",
    "        geom_point(alpha = 0.5)+\n",
    " scale_x_log10()+\n",
    " scale_size(range = [0.1, 30])+\n",
    " theme_bw()+\n",
    "geom_text(aes(x='gdpPercap', y='lifeExp', label='country'),\n",
    "         color='black', size=12)\n",
    "\n",
    ")\n"
   ]
  },
  {
   "cell_type": "code",
   "execution_count": null,
   "id": "cc40c602-ed25-4018-a4f4-4e42a35d213a",
   "metadata": {},
   "outputs": [],
   "source": [
    "#OK.... I don't quite like it... let's do some work to use only\n",
    "#  Nigeria and the US\n",
    "# To start, just do Nigeria!\n",
    "\n",
    "# For using multiple statements we can use\n",
    "# \"AND\" (&) and \"OR\" (|) statements\n",
    "\n",
    "# Let's add the country names\n",
    "\n",
    "(ggplot(data=gapminder.loc[gapminder['year']==2002], mapping=aes(x='gdpPercap', y='lifeExp',\n",
    "                                                                 color='continent',size='pop')) +\n",
    "        geom_point(alpha = 0.5)+\n",
    " scale_x_log10()+\n",
    " scale_size(range = [0.1, 30])+\n",
    " theme_bw()+\n",
    "geom_text(aes(x='gdpPercap', y='lifeExp', label='country'),\n",
    "         color='black', size=12,\n",
    "         data=gapminder.loc[(gapminder['year']==2002)\n",
    "                           & (gapminder['country']=='Nigeria')]\n",
    "         )\n",
    "\n",
    ")\n",
    " \n"
   ]
  },
  {
   "cell_type": "code",
   "execution_count": null,
   "id": "88d8de4a-c5e3-40db-b8ab-148913c6c3e6",
   "metadata": {},
   "outputs": [],
   "source": [
    "# OK, now I would like to add the United states!\n",
    "#But how do I write the condition?\n",
    "\n",
    "gapminder.loc[(gapminder['year']==2002)\n",
    "                           & (gapminder['country']=='Nigeria')|\n",
    "\n",
    "              (gapminder['country']=='United States')]"
   ]
  },
  {
   "cell_type": "code",
   "execution_count": null,
   "id": "89129217-45b5-4a26-a318-10dd9477ba30",
   "metadata": {},
   "outputs": [],
   "source": [
    "#Not quite! Let's try this\n",
    "\n",
    "\n",
    "gapminder.loc[((gapminder['year']==2002)\n",
    "                           & (gapminder['country']=='Nigeria'))|\n",
    "             (gapminder['year']==2002) &\n",
    "              (gapminder['country']=='United States')]"
   ]
  },
  {
   "cell_type": "code",
   "execution_count": null,
   "id": "4665234d-fe91-42ed-a684-5a47c3855982",
   "metadata": {},
   "outputs": [],
   "source": [
    "(ggplot(data=gapminder.loc[gapminder['year']==2002], mapping=aes(x='gdpPercap', y='lifeExp',\n",
    "                                                                 color='continent',size='pop')) +\n",
    "        geom_point(alpha = 0.5)+\n",
    " scale_x_log10()+\n",
    " scale_size(range = [0.1, 30])+\n",
    " theme_bw()+\n",
    "geom_text(aes(x='gdpPercap', y='lifeExp', label='country'),\n",
    "         color='black', size=12,\n",
    "         data=\n",
    "gapminder.loc[((gapminder['year']==2002)\n",
    "                           & (gapminder['country']=='Nigeria'))|\n",
    "             (gapminder['year']==2002) &\n",
    "              (gapminder['country']=='United States')]         )\n",
    "\n",
    ")\n"
   ]
  },
  {
   "cell_type": "code",
   "execution_count": null,
   "id": "c0446983-6894-4368-a3f5-ea77e6d8dd9d",
   "metadata": {},
   "outputs": [],
   "source": [
    "#we can add more, such as adding countries with \n",
    "#population over 100 million people, \n",
    "#but the command would get too complicated\n",
    "#Let's try to be smart. We just want year 2002\n",
    "\n",
    "dfplot=gapminder.loc[gapminder['year']==2002]\n",
    "\n",
    "\n",
    "(ggplot(data=dfplot, mapping=aes(x='gdpPercap', y='lifeExp',\n",
    "                             color='continent',size='pop')) +\n",
    "        geom_point(alpha = 0.5)+\n",
    " scale_x_log10()+\n",
    " scale_size(range = [0.1, 30])+\n",
    " theme_bw()+\n",
    "geom_text(aes(x='gdpPercap', y='lifeExp', label='country'),\n",
    "         color='black', size=12,\n",
    "         data=dfplot.loc[(dfplot['country']=='Nigeria')|\n",
    "                        (dfplot['country']=='United States')|\n",
    "                        (dfplot['pop']>1e8)\n",
    "                        ]   \n",
    "         )\n",
    "\n",
    ")"
   ]
  },
  {
   "cell_type": "code",
   "execution_count": null,
   "id": "829eb83a-7bcd-40b6-98d8-985c034b73ad",
   "metadata": {},
   "outputs": [],
   "source": [
    "#Let's add some nice title and axes and then\n",
    "#let's make a function we can cycle over all years\n",
    "# We will use those to animate\n",
    "\n",
    "dfplot=gapminder.loc[gapminder['year']==2002]\n",
    "\n",
    "\n",
    "(ggplot(data=dfplot, mapping=aes(x='gdpPercap', y='lifeExp',\n",
    "                             color='continent',size='pop')) +\n",
    "        geom_point(alpha = 0.5)+\n",
    " scale_x_log10()+\n",
    " \n",
    " scale_size(range = [0.1, 30])+\n",
    " theme_bw()+\n",
    "geom_text(aes(x='gdpPercap', y='lifeExp', label='country'),\n",
    "         color='black', size=12,\n",
    "         data=dfplot.loc[(dfplot['country']=='Nigeria')|\n",
    "                        (dfplot['country']=='United States')|\n",
    "                        (dfplot['pop']>1e8)\n",
    "                        ]   \n",
    "         )+\n",
    " ggtitle('Gapminder for 2002')+\n",
    " xlab('GDP per capita')+\n",
    " ylab('Life Expectancy')\n",
    "\n",
    ")\n"
   ]
  },
  {
   "cell_type": "code",
   "execution_count": null,
   "id": "ea318dff-d1bc-45d7-9545-f2b132d375ac",
   "metadata": {},
   "outputs": [],
   "source": [
    "# We need to create some locked ranges for \n",
    "#the aces to animate\n",
    "\n",
    "\n",
    "ranges=gapminder.agg([\"min\", \"max\"])\n",
    "\n",
    "ylims= tuple(ranges['lifeExp'])\n",
    "xlims= tuple(ranges['gdpPercap'])\n",
    "size_lims = tuple(ranges[\"pop\"])\n"
   ]
  },
  {
   "cell_type": "code",
   "execution_count": null,
   "id": "4652ce03-4d59-4823-80ce-36d2ac66bfb4",
   "metadata": {},
   "outputs": [],
   "source": [
    "#Let's look at each of these:\n",
    "ylims"
   ]
  },
  {
   "cell_type": "code",
   "execution_count": null,
   "id": "ba242113-74ea-4b64-9066-6037023d8cfe",
   "metadata": {},
   "outputs": [],
   "source": [
    "xlims"
   ]
  },
  {
   "cell_type": "code",
   "execution_count": null,
   "id": "02a0169f-0fdf-45cb-98d8-d6646009a6ea",
   "metadata": {},
   "outputs": [],
   "source": [
    "size_lims"
   ]
  },
  {
   "cell_type": "code",
   "execution_count": null,
   "id": "4f282c80-62db-46e0-9a3f-d948f1e5bc70",
   "metadata": {},
   "outputs": [],
   "source": [
    "years=gapminder['year'].unique().tolist()"
   ]
  },
  {
   "cell_type": "code",
   "execution_count": null,
   "id": "90251237-d07b-4288-bd44-44f9498860b7",
   "metadata": {},
   "outputs": [],
   "source": [
    "#Make a function\n",
    "\n",
    "def plotmaker( year, \n",
    "              ylims=ylims,\n",
    "              xlims=xlims, \n",
    "              size_lims=size_lims):\n",
    "    dfplot=gapminder.loc[gapminder['year']==year]\n",
    "\n",
    "\n",
    "    p=(ggplot(data=dfplot, mapping=aes(x='gdpPercap', y='lifeExp',\n",
    "                                 color='continent',size='pop')) +\n",
    "       #the dots\n",
    "            geom_point(alpha = 0.5)+\n",
    "       \n",
    "       #we make sure that all of our axes and dots stay within the limits we set\n",
    "    scale_size(range = [0.1, 30], limits = size_lims)+\n",
    "       scale_x_log10(limits = xlims, minor_breaks = [])+\n",
    "       scale_y_continuous(limits = ylims)+\n",
    "     \n",
    "       #The theme\n",
    "     theme_bw()+\n",
    "       \n",
    "       #The text!\n",
    "    geom_text(aes(x='gdpPercap', y='lifeExp', label='country'),\n",
    "             color='black', size=12,\n",
    "             data=dfplot.loc[(dfplot['country']=='Nigeria')|\n",
    "                            (dfplot['country']=='United States')|\n",
    "                            (dfplot['pop']>1e8)\n",
    "                            ]   \n",
    "             )+\n",
    "       \n",
    "       #The title\n",
    "     ggtitle(f\"Gapminder for year {str(year)}\")+  \n",
    "       \n",
    "       #The x axis!\n",
    "     xlab('GDP per capita')+\n",
    "       \n",
    "       #The y axis!\n",
    "     ylab('Life Expectancy')\n",
    "\n",
    "    )\n",
    "    \n",
    "    return(p)\n"
   ]
  },
  {
   "cell_type": "code",
   "execution_count": null,
   "id": "cf252b0a-d61a-419c-9d9e-cf0b48866391",
   "metadata": {},
   "outputs": [],
   "source": [
    "plotmaker( year=1957)"
   ]
  },
  {
   "cell_type": "code",
   "execution_count": null,
   "id": "1d45689e-aebd-44d4-a9ae-84b9f51d888c",
   "metadata": {},
   "outputs": [],
   "source": [
    "# we will create an object called a generator\n",
    "for k in years:\n",
    "    plotmaker(year=k).save(f\"anigapminder{str(k)}.png\")\n"
   ]
  },
  {
   "cell_type": "code",
   "execution_count": null,
   "id": "fe27288b-7330-49df-9d54-957d8f75a26e",
   "metadata": {},
   "outputs": [],
   "source": [
    "#Let's get the directory explorer\n",
    "import imageio as io\n",
    "import os"
   ]
  },
  {
   "cell_type": "code",
   "execution_count": null,
   "id": "f5bcd6e9-2cb7-446f-bf04-330c36c6c05f",
   "metadata": {},
   "outputs": [],
   "source": [
    "\n",
    "file_names = sorted((fn for fn in os.listdir('.') if fn.startswith('anigapminder')))"
   ]
  },
  {
   "cell_type": "code",
   "execution_count": null,
   "id": "646e5030-e9cb-472e-86c5-125a4b8868d3",
   "metadata": {},
   "outputs": [],
   "source": [
    "file_names\n"
   ]
  },
  {
   "cell_type": "code",
   "execution_count": null,
   "id": "c054ca1e-595e-4b1f-81d8-116bffaba261",
   "metadata": {},
   "outputs": [],
   "source": [
    "#This to make a gif!!!\n",
    "\n",
    "with io.get_writer('gapminder.gif', mode='I', duration=0.5) as writer:\n",
    "    for filename in file_names:\n",
    "        image = io.imread(filename)\n",
    "        writer.append_data(image)\n",
    "writer.close()"
   ]
  },
  {
   "cell_type": "markdown",
   "id": "2fc7da9a-e18f-4a7e-a331-a9085f69ecda",
   "metadata": {},
   "source": [
    "## A few more tricks (mpg dataset)"
   ]
  },
  {
   "cell_type": "code",
   "execution_count": null,
   "id": "66bb418e-4e39-44e7-9e8b-e0fd46ffb557",
   "metadata": {},
   "outputs": [],
   "source": [
    "from plotnine.data import mpg\n"
   ]
  },
  {
   "cell_type": "code",
   "execution_count": null,
   "id": "d9ac634b-a47e-4a09-a0dd-6ff688a6d945",
   "metadata": {},
   "outputs": [],
   "source": [
    "mpg.head()"
   ]
  },
  {
   "cell_type": "code",
   "execution_count": null,
   "id": "2cf1209f-36b4-4ace-ba6e-71e526f16860",
   "metadata": {},
   "outputs": [],
   "source": [
    "(ggplot(mpg)+\n",
    " aes(x='manufacturer')+\n",
    " #We can change the bar size!\n",
    "geom_bar(size=20)+\n",
    " coord_flip()+\n",
    " labs(y='Count', x='Manufacturer', title='Number of Cars by Make')+\n",
    " theme_bw()\n",
    ")"
   ]
  },
  {
   "cell_type": "code",
   "execution_count": null,
   "id": "18fcd7eb-16aa-40dc-908d-5d0a8d707383",
   "metadata": {},
   "outputs": [],
   "source": [
    "# I would like to sort this. First let's a sort by value counts\n",
    "\n",
    "mpg['manufacturer'].value_counts()\n"
   ]
  },
  {
   "cell_type": "code",
   "execution_count": null,
   "id": "09ff09a4-15b2-4a6c-a744-6de353a9dcd5",
   "metadata": {},
   "outputs": [],
   "source": [
    "# Let's get a sorted list\n",
    "\n",
    "manufacturer_list = mpg['manufacturer'].value_counts().index.tolist()\n",
    "\n",
    "manufacturer_list"
   ]
  },
  {
   "cell_type": "code",
   "execution_count": null,
   "id": "42cc051a-1651-42d3-8807-bcc970fdf775",
   "metadata": {},
   "outputs": [],
   "source": [
    "#We will turn this into a categorical variable\n",
    "\n",
    "manufacturer_cat = pd.Categorical(mpg['manufacturer'], categories=manufacturer_list)\n",
    "\n",
    "manufacturer_cat"
   ]
  },
  {
   "cell_type": "code",
   "execution_count": null,
   "id": "6198498b-a523-4c44-9cb6-b8d205762cec",
   "metadata": {},
   "outputs": [],
   "source": [
    "mpg['manufacturer_cat']=manufacturer_cat"
   ]
  },
  {
   "cell_type": "code",
   "execution_count": null,
   "id": "a8c3b65c-172e-4dc8-acaa-bd4cc8304ee9",
   "metadata": {},
   "outputs": [],
   "source": [
    "(ggplot(mpg)+\n",
    " aes(x='manufacturer_cat')+\n",
    "  geom_bar(size=20)+\n",
    "  coord_flip()+\n",
    "   ylab(\"Count\")+\n",
    " xlab(\"Manufacturer\")+\n",
    " ggtitle(\"Number of cars by make\")+\n",
    "  theme_bw()\n",
    ")"
   ]
  },
  {
   "cell_type": "code",
   "execution_count": null,
   "id": "67e1fc23-e701-4032-83c7-540a584427d2",
   "metadata": {},
   "outputs": [],
   "source": [
    "#What about doing it from highest to lowest?\n",
    "#Let's turn the list backwards\n",
    "\n",
    "mpg['manufacturer'].value_counts().index.tolist()[::-1]\n",
    "\n"
   ]
  },
  {
   "cell_type": "code",
   "execution_count": null,
   "id": "8acbea5d-8d18-4dc7-a52f-8fdac62c0f2f",
   "metadata": {},
   "outputs": [],
   "source": [
    "manufacturer_list = mpg['manufacturer'].value_counts().index.tolist()[::-1]\n"
   ]
  },
  {
   "cell_type": "code",
   "execution_count": null,
   "id": "b8bb6058-e8fa-4513-b920-15731255f1e6",
   "metadata": {},
   "outputs": [],
   "source": [
    "(ggplot(mpg)+\n",
    " aes(x='manufacturer_cat')+\n",
    "  geom_bar(size=20)+\n",
    "  coord_flip()+\n",
    "   ylab(\"Count\")+\n",
    " xlab(\"Manufacturer\")+\n",
    " ggtitle(\"Number of cars by make\")+\n",
    "  scale_x_discrete(limits=manufacturer_list)+\n",
    "\n",
    "  theme_bw()\n",
    ")"
   ]
  },
  {
   "cell_type": "code",
   "execution_count": null,
   "id": "318c8b1f-33b6-4f29-9e91-534cab06bd60",
   "metadata": {},
   "outputs": [],
   "source": [
    "#Let's do stacked bar plots ( we are also gonna change the figure size of this individual plot)\n",
    "\n",
    "(ggplot(data=mpg, mapping=aes(x=\"manufacturer\", fill=\"factor(cyl)\"))+\n",
    " geom_bar()+\n",
    " xlab(\"Manufacturer\")+\n",
    " ylab(\"Model Counts\")+\n",
    " ggtitle(\"Model Counts per Manufacturer colored by Cylinder\")+\n",
    " theme(figure_size=(11,5))+\n",
    " theme_bw()+\n",
    " theme(axis_text_x=element_text(rotation=90))\n",
    "\n",
    ")"
   ]
  },
  {
   "cell_type": "code",
   "execution_count": null,
   "id": "16e34bd6-f5d6-42f5-8423-83894f5c7f88",
   "metadata": {},
   "outputs": [],
   "source": [
    "# I am gonna have the audi, chevrolet, dodge and volkswagen, grouped by manufacturer and cylinder\n",
    "\n",
    "mpg_by_manuf_cyl = mpg.groupby(by=[\"manufacturer\",\"cyl\"]).mean()\\\n",
    "                    .loc[[\"audi\", \"chevrolet\", \"dodge\", \"volkswagen\"]].dropna().reset_index()\n",
    "\n",
    "mpg_by_manuf_cyl"
   ]
  },
  {
   "cell_type": "code",
   "execution_count": null,
   "id": "9407ccee-0557-4c16-804c-036942872d95",
   "metadata": {},
   "outputs": [],
   "source": [
    "# I want to watch these as separate columns. And I want y to be the highway MPG\n",
    "# we can start similar, but use geom_col instead of bar (when we have a y axis)\n",
    "\n",
    "\n",
    "(ggplot(data=mpg_by_manuf_cyl, mapping=aes(x=\"manufacturer\",y='hwy', fill=\"factor(cyl)\"))+\n",
    " geom_col())"
   ]
  },
  {
   "cell_type": "code",
   "execution_count": null,
   "id": "eb43a562-fad5-4b0d-b1a5-5bb97ce6306f",
   "metadata": {},
   "outputs": [],
   "source": [
    "(ggplot(data=mpg_by_manuf_cyl, mapping=aes(x=\"manufacturer\",y='hwy', fill=\"factor(cyl)\"))+\n",
    " geom_col(position='dodge')+\n",
    "theme_bw())"
   ]
  },
  {
   "cell_type": "code",
   "execution_count": null,
   "id": "2e1115c0-5013-424a-b4b8-21f2ec8b9d99",
   "metadata": {},
   "outputs": [],
   "source": [
    "# we can give this some labels on top\n",
    "\n",
    "(ggplot(data=mpg_by_manuf_cyl, mapping=aes(x=\"manufacturer\",y='hwy', fill=\"factor(cyl)\"))+\n",
    " geom_col(position='dodge')+\n",
    " geom_text(mapping=aes(label=\"hwy\"),\n",
    "                  va=\"bottom\")+\n",
    "\n",
    " \n",
    "theme_bw())\n",
    "\n"
   ]
  },
  {
   "cell_type": "code",
   "execution_count": null,
   "id": "c6c5e670-bf52-43ba-a2d2-65d44fb634a9",
   "metadata": {},
   "outputs": [],
   "source": [
    "#Maybe we can try that again...\n",
    "\n",
    "(ggplot(data=mpg_by_manuf_cyl, mapping=aes(x=\"manufacturer\",y='hwy', fill=\"factor(cyl)\"))+\n",
    " geom_col(position='dodge')+\n",
    " geom_text(mapping=aes(label=\"hwy\"),\n",
    "           #this means the string in the text we are adding has 2 decimals only\n",
    "           format_string='{:.2f}',\n",
    "           #this makes sure that each label is separated and goes to each bar\n",
    "           position=position_dodge(width=0.9),\n",
    "                  va=\"bottom\")+\n",
    "\n",
    " \n",
    "theme_bw())"
   ]
  },
  {
   "cell_type": "code",
   "execution_count": null,
   "id": "9494fd54-feaa-4a62-8d41-a0b6faa67c40",
   "metadata": {},
   "outputs": [],
   "source": []
  }
 ],
 "metadata": {
  "kernelspec": {
   "display_name": "Python 3",
   "language": "python",
   "name": "python3"
  },
  "language_info": {
   "codemirror_mode": {
    "name": "ipython",
    "version": 3
   },
   "file_extension": ".py",
   "mimetype": "text/x-python",
   "name": "python",
   "nbconvert_exporter": "python",
   "pygments_lexer": "ipython3",
   "version": "3.8.8"
  }
 },
 "nbformat": 4,
 "nbformat_minor": 5
}
