{
 "cells": [
  {
   "cell_type": "markdown",
   "id": "8a3af4cf-ed30-4305-9704-c6ac55bc829e",
   "metadata": {},
   "source": [
    "ESC +shift +l turns on/off numberlines"
   ]
  },
  {
   "cell_type": "markdown",
   "id": "c4311006-904a-4f22-bef3-e718b0a37605",
   "metadata": {},
   "source": [
    "# Visualization with plotnine"
   ]
  },
  {
   "cell_type": "code",
   "execution_count": null,
   "id": "0d2d3804-a798-40fd-8754-36e9e0c08318",
   "metadata": {},
   "outputs": [],
   "source": [
    "import pandas as pd\n",
    "import numpy as np\n",
    "import plotnine\n",
    "from plotnine import *\n",
    "%matplotlib inline"
   ]
  },
  {
   "cell_type": "code",
   "execution_count": null,
   "id": "b31fde2d-2e41-4841-9d80-619588fefb98",
   "metadata": {},
   "outputs": [],
   "source": [
    "url = 'http://dx.doi.org/10.1787/888932937035'\n",
    "pisa = pd.read_excel(url,\n",
    "                     skiprows=18,      # skip the first 18 rows\n",
    "                     skipfooter=7,     # skip the last 7\n",
    "                     usecols=[0,1,9,13], # select columns of interest\n",
    "                     index_col=0,      # set the index as the first column\n",
    "                     header=0      # set the variable names\n",
    "                     )"
   ]
  },
  {
   "cell_type": "code",
   "execution_count": null,
   "id": "cdc988bd-62a1-4e56-b1c1-fc17ee6118d6",
   "metadata": {},
   "outputs": [],
   "source": [
    "pisa"
   ]
  },
  {
   "cell_type": "code",
   "execution_count": null,
   "id": "79c61c3c-aee4-44c5-8209-21aee390c295",
   "metadata": {},
   "outputs": [],
   "source": [
    "pisa = pisa.dropna().iloc[1:,:]"
   ]
  },
  {
   "cell_type": "code",
   "execution_count": null,
   "id": "a2c78ac8-8a1e-440d-bcc9-16e1103b65cb",
   "metadata": {},
   "outputs": [],
   "source": [
    "pisa"
   ]
  },
  {
   "cell_type": "code",
   "execution_count": null,
   "id": "5681e7f0-e3f5-45e2-9150-7d02643ca5b3",
   "metadata": {},
   "outputs": [],
   "source": [
    "pisa.columns = ['math', 'reading', 'science'] # simplify variable names"
   ]
  },
  {
   "cell_type": "code",
   "execution_count": null,
   "id": "e3ce762e-eef6-4d49-a79a-f3499b0115b5",
   "metadata": {},
   "outputs": [],
   "source": [
    "#Let's just make sure things are okay\n",
    "pisa = pisa.astype(float)"
   ]
  },
  {
   "cell_type": "code",
   "execution_count": null,
   "id": "89ea7c15-3e1f-4e8a-9df9-c4ef16f31987",
   "metadata": {},
   "outputs": [],
   "source": [
    "pisa"
   ]
  },
  {
   "cell_type": "code",
   "execution_count": null,
   "id": "15101327-15b5-4bfb-98ef-5f419e570d4d",
   "metadata": {},
   "outputs": [],
   "source": [
    "pisa=pisa.rename_axis('Region').reset_index()\n"
   ]
  },
  {
   "cell_type": "code",
   "execution_count": null,
   "id": "961c4e64-94eb-4ea4-8eb1-91cbd255886a",
   "metadata": {},
   "outputs": [],
   "source": [
    "pisa"
   ]
  },
  {
   "cell_type": "markdown",
   "id": "226f6d87-7cc8-4e3d-8733-73cf398a34a1",
   "metadata": {},
   "source": [
    "## Getting started! Layers!"
   ]
  },
  {
   "cell_type": "code",
   "execution_count": null,
   "id": "96248634-e35b-4d59-83c3-56fa6517e71a",
   "metadata": {},
   "outputs": [],
   "source": [
    "## plotnine needs a dataframe to start\n",
    "\n",
    "(ggplot(data=pisa))\n"
   ]
  },
  {
   "cell_type": "markdown",
   "id": "834df5b8-9403-4f2f-b06b-15ac75900a6c",
   "metadata": {},
   "source": [
    "Well, nothing showed up! What is going on?! We need to add aesthetics!"
   ]
  },
  {
   "cell_type": "code",
   "execution_count": null,
   "id": "38f0697e-d230-4627-88a2-d188fe15b173",
   "metadata": {},
   "outputs": [],
   "source": [
    "(ggplot(data=pisa, mapping=aes(x='Region', y='math')))\n"
   ]
  },
  {
   "cell_type": "markdown",
   "id": "c150f9aa-14e8-4157-acda-96a8c81a30b9",
   "metadata": {},
   "source": [
    "We are getting somewhere!, for now we have defined a space where the graph is going to live. We use layers called geoms to actually feed a plot, we can add new layers by adding a plus to the latest part of the command."
   ]
  },
  {
   "cell_type": "code",
   "execution_count": null,
   "id": "e35644bd-2b09-4099-91bb-768306dcfe37",
   "metadata": {},
   "outputs": [],
   "source": [
    "(ggplot(data=pisa, mapping=aes(x='Region', y='math'))+\n",
    "geom_bar(stat='identity'))\n"
   ]
  },
  {
   "cell_type": "markdown",
   "id": "dc89fa5f-766d-441c-aded-3962a435c531",
   "metadata": {},
   "source": [
    "Great! I can see a bar plot now, but this doesn't look like anything on the x axis, maybe I would like a horizontal bar plot"
   ]
  },
  {
   "cell_type": "code",
   "execution_count": null,
   "id": "3ab26091-a175-46c7-a1eb-801813bdca21",
   "metadata": {},
   "outputs": [],
   "source": [
    "(ggplot(data=pisa, mapping=aes(x='Region', y='math'))+\n",
    "geom_bar(stat='identity')+\n",
    "coord_flip())\n"
   ]
  },
  {
   "cell_type": "markdown",
   "id": "baf10386-374e-4ed0-b3e2-9a3c7b4de7a2",
   "metadata": {},
   "source": [
    "Okay, I hate how this looks, let me make these plots larger, we are going to set the following option (in inches) from now on:"
   ]
  },
  {
   "cell_type": "code",
   "execution_count": null,
   "id": "422d2cf4-8cc3-4ed5-86a0-8c4b2ea208e7",
   "metadata": {},
   "outputs": [],
   "source": [
    "plotnine.options.figure_size = (16, 8)"
   ]
  },
  {
   "cell_type": "code",
   "execution_count": null,
   "id": "faefa175-b837-404e-8afd-d0d885abee5e",
   "metadata": {},
   "outputs": [],
   "source": [
    "(ggplot(data=pisa, mapping=aes(x='Region', y='math'))+\n",
    "geom_bar(stat='identity')+\n",
    "coord_flip())"
   ]
  },
  {
   "cell_type": "markdown",
   "id": "fa23436e-2be4-4db6-8c64-bf841fe957c3",
   "metadata": {},
   "source": [
    "OK, this is better, but maybe we could just look at only the first 5 countries like this and make the bars dark orange"
   ]
  },
  {
   "cell_type": "code",
   "execution_count": null,
   "id": "623aa220-bfcb-401f-9f0e-b0f2663c6d5f",
   "metadata": {},
   "outputs": [],
   "source": [
    "(ggplot(data=pisa.iloc[0:5,], mapping=aes(x='Region', y='math'))+\n",
    "geom_bar(stat='identity', fill='darkorange')+\n",
    "coord_flip())"
   ]
  },
  {
   "cell_type": "markdown",
   "id": "269c110f-f888-4c80-816a-c5a28281dac1",
   "metadata": {},
   "source": [
    "I'd like to do more work with this, and change the axis labels and give the plot a nice title"
   ]
  },
  {
   "cell_type": "code",
   "execution_count": null,
   "id": "cdc696f7-86e6-40f0-9e59-eb38956b4f0b",
   "metadata": {},
   "outputs": [],
   "source": [
    "(ggplot(data=pisa.iloc[0:5,], mapping=aes(x='Region', y='math'))+\n",
    "geom_bar(stat='identity', fill='darkorange')+\n",
    "xlab(\"Mathematics Score\")+\n",
    "ylab(\"Region\")+\n",
    "ggtitle(\"Math reading scores for 5 regions\")+ \n",
    "coord_flip())\n"
   ]
  },
  {
   "cell_type": "markdown",
   "id": "3c7e36a3-b3b5-440a-b4bb-463ede8c485a",
   "metadata": {},
   "source": [
    "Gray rectangles are pretty ugly. Let's get rid of them:"
   ]
  },
  {
   "cell_type": "code",
   "execution_count": null,
   "id": "0e6a2684-7697-4aa2-9d3f-79c8160fc16e",
   "metadata": {},
   "outputs": [],
   "source": [
    "(ggplot(data=pisa.iloc[0:5,], mapping=aes(x='Region', y='math'))+\n",
    "geom_bar(stat='identity', fill='darkorange')+\n",
    "xlab(\"Mathematics Score\")+\n",
    "ylab(\"Region\")+\n",
    "ggtitle(\"Math reading scores for 5 regions\")+ \n",
    "coord_flip()+\n",
    "theme_bw())"
   ]
  },
  {
   "cell_type": "markdown",
   "id": "fdc3489e-c724-4953-9fc1-b326cf46761d",
   "metadata": {},
   "source": [
    "Maybe I would like to know if the scores of math and reading follow each other"
   ]
  },
  {
   "cell_type": "code",
   "execution_count": null,
   "id": "ba9a672a-4378-40fc-aa75-330265205fff",
   "metadata": {},
   "outputs": [],
   "source": [
    "(ggplot(data=pisa, mapping=aes(x='math', y='reading'))+\n",
    " geom_point())"
   ]
  },
  {
   "cell_type": "markdown",
   "id": "ceb73ee5-8d6b-4ed9-bc0d-c4b04977755b",
   "metadata": {},
   "source": [
    "Let's get a trend line as close as possible to the dots and make the background not gray squares"
   ]
  },
  {
   "cell_type": "code",
   "execution_count": null,
   "id": "6c2bfa0f-f23f-445e-95c5-08c8b821473b",
   "metadata": {},
   "outputs": [],
   "source": [
    "(ggplot(data=pisa, mapping=aes(x='math', y='reading'))+\n",
    " geom_point()+\n",
    "geom_smooth(method='lm')+\n",
    "theme_bw())"
   ]
  },
  {
   "cell_type": "markdown",
   "id": "ad03166a-cccf-405e-9a5f-d11d1f624042",
   "metadata": {},
   "source": [
    "## Let's play with a new dataset (gapminder)"
   ]
  },
  {
   "cell_type": "markdown",
   "id": "e18bfa59-d5a7-4d62-8aad-59c02c262442",
   "metadata": {},
   "source": [
    "You might have seen this:\n",
    "\n",
    "https://www.youtube.com/watch?v=Z8t4k0Q8e8Y\n",
    "\n",
    "we are gonna try to get just one of those years plotted!"
   ]
  },
  {
   "cell_type": "code",
   "execution_count": null,
   "id": "0ae53679-61b6-4fef-9289-0d76a65a7141",
   "metadata": {},
   "outputs": [],
   "source": [
    "g_url='https://raw.githubusercontent.com/swcarpentry/r-novice-gapminder/gh-pages/_episodes_rmd/data/gapminder-FiveYearData.csv'\n",
    "\n",
    "gapminder=pd.read_csv(g_url)"
   ]
  },
  {
   "cell_type": "code",
   "execution_count": null,
   "id": "77eaaa31-a9c3-476b-8505-8300aa51d5c3",
   "metadata": {},
   "outputs": [],
   "source": [
    "gapminder.head()"
   ]
  },
  {
   "cell_type": "code",
   "execution_count": null,
   "id": "38a4d809-10e6-4d78-903b-61e10a6346fd",
   "metadata": {},
   "outputs": [],
   "source": [
    "#let's do a scatter plot with where the horizontal axis is gdp per capita and y is life expectancy! \n",
    "#Extra, try the color of the dots to be of color 'coornflowerblue'\n",
    "\n",
    "\n",
    "\n",
    "\n",
    "\n",
    "\n",
    "\n",
    "\n",
    "\n",
    "\n",
    "\n",
    "\n",
    "\n",
    "\n",
    "\n",
    "\n",
    "\n",
    "\n"
   ]
  },
  {
   "cell_type": "code",
   "execution_count": null,
   "id": "60841024-154b-4f8f-8438-cfa1884da477",
   "metadata": {},
   "outputs": [],
   "source": [
    "#let's check out what are the continents in the datadframe\n",
    "\n",
    "\n",
    "gapminder['continent'].unique()"
   ]
  },
  {
   "cell_type": "code",
   "execution_count": null,
   "id": "3ad2abdf-61c3-4dd6-9701-1b43c64a4a13",
   "metadata": {},
   "outputs": [],
   "source": [
    "#To get one of those nice plots, I'd like to get each continent under a new color\n",
    "\n",
    "(ggplot(data=gapminder, mapping=aes(x='gdpPercap', y='lifeExp', color='continent')) +\n",
    "        geom_point(alpha = 0.5)\n",
    ")"
   ]
  },
  {
   "cell_type": "code",
   "execution_count": null,
   "id": "c275852f-cc05-42c2-95a5-5486c39036a1",
   "metadata": {},
   "outputs": [],
   "source": [
    "#Nice!!!!, but I want to get a single year, let's see what years we have available\n",
    "\n",
    "gapminder['year'].unique()"
   ]
  },
  {
   "cell_type": "code",
   "execution_count": null,
   "id": "975bd378-bd6e-4b15-81dd-c593962cae89",
   "metadata": {},
   "outputs": [],
   "source": [
    "#Let's pick2002 and do the same plot as above!\n",
    "\n",
    "(ggplot(data=gapminder.loc[gapminder['year']==2002], mapping=aes(x='gdpPercap', y='lifeExp', color='continent')) +\n",
    "        geom_point(alpha = 0.5)\n",
    ")\n"
   ]
  },
  {
   "cell_type": "markdown",
   "id": "98832f39-d055-46e3-901f-e4fd6ffe38f4",
   "metadata": {},
   "source": [
    "NIIIICE!, Now let's get the size of the countries "
   ]
  },
  {
   "cell_type": "code",
   "execution_count": null,
   "id": "6d795a87-33c0-4469-afb2-127413012609",
   "metadata": {},
   "outputs": [],
   "source": [
    "\n",
    "(ggplot(data=gapminder.loc[gapminder['year']==2002], mapping=aes(x='gdpPercap', y='lifeExp',\n",
    "                                                                 color='continent',size='pop')) +\n",
    "        geom_point(alpha = 0.5)+\n",
    " theme_bw()\n",
    ")"
   ]
  },
  {
   "cell_type": "markdown",
   "id": "a9ee9c7e-4964-4df5-8f34-29cb5ee4a571",
   "metadata": {},
   "source": [
    "It's a bit hard to see anything while in the youtube clip we saw everything really well, so what can we do? In the video we have that gdp is in a log10 scale"
   ]
  },
  {
   "cell_type": "code",
   "execution_count": null,
   "id": "5de643b9-dc18-4487-b84d-ac0900cb1101",
   "metadata": {},
   "outputs": [],
   "source": [
    "(ggplot(data=gapminder.loc[gapminder['year']==2002], mapping=aes(x='gdpPercap', y='lifeExp',\n",
    "                                                                 color='continent',size='pop')) +\n",
    "        geom_point(alpha = 0.5)+\n",
    " scale_x_log10()+\n",
    " theme_bw()\n",
    ")"
   ]
  },
  {
   "cell_type": "markdown",
   "id": "86ca5dff-cee8-4720-b783-7d7313671ec7",
   "metadata": {},
   "source": [
    "Let's change the plot size a bit to see things better"
   ]
  },
  {
   "cell_type": "code",
   "execution_count": null,
   "id": "8782935a-cc27-44ab-b5bf-9d3246bcf0bd",
   "metadata": {},
   "outputs": [],
   "source": [
    "plotnine.options.figure_size = (9, 4.5)"
   ]
  },
  {
   "cell_type": "code",
   "execution_count": null,
   "id": "e770fb3b-6911-4b4f-9626-9442634edb74",
   "metadata": {},
   "outputs": [],
   "source": [
    "(ggplot(data=gapminder.loc[gapminder['year']==2002], mapping=aes(x='gdpPercap', y='lifeExp',\n",
    "                                                                 color='continent',size='pop')) +\n",
    "        geom_point(alpha = 0.5)+\n",
    " scale_x_log10()+\n",
    " theme_bw()\n",
    ")"
   ]
  },
  {
   "cell_type": "code",
   "execution_count": null,
   "id": "b4687dab-2cb1-4a15-bec2-e1722103bcd1",
   "metadata": {},
   "outputs": [],
   "source": [
    "#We can add a layer that will allow us to see this better by making the scale size a bit larger\n",
    "\n",
    "(ggplot(data=gapminder.loc[gapminder['year']==2002], mapping=aes(x='gdpPercap', y='lifeExp',\n",
    "                                                                 color='continent',size='pop')) +\n",
    "        geom_point(alpha = 0.5)+\n",
    " scale_x_log10()+\n",
    " scale_size(range = [0.1, 10])+\n",
    " theme_bw()\n",
    ")"
   ]
  },
  {
   "cell_type": "markdown",
   "id": "2587c559-4996-4333-a117-2656cda68ac1",
   "metadata": {},
   "source": [
    "Nice!, we are almost there... but before we get there let's do some exploration.\n",
    "\n",
    "Maybe we can just see howlife expectancy in each country evolved over time "
   ]
  },
  {
   "cell_type": "code",
   "execution_count": null,
   "id": "53727656-88eb-4367-9ad8-b27bf775d668",
   "metadata": {},
   "outputs": [],
   "source": [
    "(ggplot(gapminder, aes(x='year', y='lifeExp', group='country', color='continent')) +\n",
    "        geom_line(alpha = 0.5)+\n",
    " theme_bw()\n",
    ")"
   ]
  },
  {
   "cell_type": "markdown",
   "id": "83120499-798d-4af0-8a70-254bc29a6933",
   "metadata": {},
   "source": [
    "This shows me some trends. Then let's go back to our year 2002 and see how the life expectancy looks per continent"
   ]
  },
  {
   "cell_type": "code",
   "execution_count": null,
   "id": "d8e4af02-4c88-4561-8da6-17d6c7df8d96",
   "metadata": {},
   "outputs": [],
   "source": [
    "(ggplot(gapminder.loc[gapminder['year']==2002], aes(x='continent', y='lifeExp', fill='continent')) +\n",
    "        geom_boxplot()+\n",
    " theme_bw()\n",
    ")"
   ]
  },
  {
   "cell_type": "code",
   "execution_count": null,
   "id": "27741743-403a-4171-bb88-45f74712b1d3",
   "metadata": {},
   "outputs": [],
   "source": [
    "(ggplot(gapminder.loc[gapminder['year']==2002], aes(x='lifeExp')) +\n",
    "        geom_histogram(binwidth = 3, fill='darkorange')+\n",
    " theme_bw()\n",
    ")"
   ]
  },
  {
   "cell_type": "markdown",
   "id": "c0d9d5a1-1b1f-43a9-af7d-a189f1d0cc61",
   "metadata": {},
   "source": [
    "Let's add a density plot on top!"
   ]
  },
  {
   "cell_type": "code",
   "execution_count": null,
   "id": "56d8caa6-4e04-4630-8857-d7371a7cc6c1",
   "metadata": {},
   "outputs": [],
   "source": [
    "(ggplot(gapminder.loc[gapminder['year']==2002], aes(x='lifeExp')) +\n",
    "        geom_histogram(aes(y='stat(density)'),binwidth = 3, fill='darkorange')+\n",
    "     geom_density(color='steelblue')+\n",
    "\n",
    " theme_bw()\n",
    ")"
   ]
  },
  {
   "cell_type": "markdown",
   "id": "266cfcbc-552a-459c-bbc3-099eea657d9d",
   "metadata": {},
   "source": [
    "But I want to split this by continent!!! (without density)"
   ]
  },
  {
   "cell_type": "code",
   "execution_count": null,
   "id": "289fe2b0-13b6-4f34-bd9a-d3fba915ba07",
   "metadata": {},
   "outputs": [],
   "source": [
    "(ggplot(gapminder.loc[gapminder['year']==2002], aes(x='lifeExp', fill='continent')) +\n",
    "        geom_histogram(binwidth = 3)+\n",
    "    \n",
    " facet_wrap('continent')+\n",
    "\n",
    " theme_bw()\n",
    ")"
   ]
  },
  {
   "cell_type": "markdown",
   "id": "e24d7a37-9e0e-43e0-bae4-a66a2726ad8a",
   "metadata": {},
   "source": [
    "Do you remember our prettier plot so far?"
   ]
  },
  {
   "cell_type": "code",
   "execution_count": null,
   "id": "90b929ae-58b2-4051-9358-4410ede81b35",
   "metadata": {},
   "outputs": [],
   "source": [
    "(ggplot(data=gapminder.loc[gapminder['year']==2002], mapping=aes(x='gdpPercap', y='lifeExp',\n",
    "                                                                 color='continent',size='pop')) +\n",
    "        geom_point(alpha = 0.5)+\n",
    " scale_x_log10()+\n",
    " scale_size(range = [0.1, 10])+\n",
    " theme_bw()\n",
    ")"
   ]
  },
  {
   "cell_type": "markdown",
   "id": "28249d3b-ffb3-4a99-996e-a37d788e86d7",
   "metadata": {},
   "source": [
    "How do I save it?"
   ]
  },
  {
   "cell_type": "code",
   "execution_count": null,
   "id": "f3993f0f-f98b-40a2-bf33-6da6957ff3ed",
   "metadata": {},
   "outputs": [],
   "source": [
    "p=(ggplot(data=gapminder.loc[gapminder['year']==2002], mapping=aes(x='gdpPercap', y='lifeExp',\n",
    "                                                                 color='continent',size='pop')) +\n",
    "        geom_point(alpha = 0.5)+\n",
    " scale_x_log10()+\n",
    " scale_size(range = [0.1, 10])+\n",
    " theme_bw()\n",
    ")"
   ]
  },
  {
   "cell_type": "code",
   "execution_count": null,
   "id": "c53eaa3c-8940-4117-9238-da486f1f2b40",
   "metadata": {},
   "outputs": [],
   "source": [
    "p"
   ]
  },
  {
   "cell_type": "markdown",
   "id": "402bf170-2868-49a1-95ad-ea4e8491f54f",
   "metadata": {},
   "source": [
    "Great let's save this"
   ]
  },
  {
   "cell_type": "code",
   "execution_count": null,
   "id": "2c869553-c585-4dfe-af73-eef2dcf1a749",
   "metadata": {},
   "outputs": [],
   "source": [
    "p.save(\"gapminder2002.png\")\n"
   ]
  },
  {
   "cell_type": "markdown",
   "id": "e540b2e1-61bc-4609-bb63-aee2104633ee",
   "metadata": {},
   "source": [
    "Can we make a function that takes the year and gives us the plot?"
   ]
  },
  {
   "cell_type": "code",
   "execution_count": null,
   "id": "3c79dc24-df85-43e0-b476-52ca2872998e",
   "metadata": {},
   "outputs": [],
   "source": [
    "\n",
    "\n",
    "\n",
    "\n",
    "\n",
    "\n",
    "\n",
    "\n",
    "\n",
    "\n",
    "\n",
    "\n",
    "\n",
    "\n",
    "\n",
    "\n",
    "\n"
   ]
  },
  {
   "cell_type": "markdown",
   "id": "2e8540d8-4718-4daa-86f1-e0a032f4c4a8",
   "metadata": {},
   "source": [
    "Let's test our function!"
   ]
  },
  {
   "cell_type": "code",
   "execution_count": null,
   "id": "936bde66-3e15-4dbd-a6eb-85116072e61b",
   "metadata": {},
   "outputs": [],
   "source": [
    "\n",
    "\n",
    "\n",
    "\n",
    "\n",
    "\n"
   ]
  },
  {
   "cell_type": "markdown",
   "id": "bac9bce0-cffd-44bd-a3e2-43a96757f8c4",
   "metadata": {},
   "source": [
    "Next time let's add labels and then make an animation!"
   ]
  }
 ],
 "metadata": {
  "kernelspec": {
   "display_name": "Python 3",
   "language": "python",
   "name": "python3"
  },
  "language_info": {
   "codemirror_mode": {
    "name": "ipython",
    "version": 3
   },
   "file_extension": ".py",
   "mimetype": "text/x-python",
   "name": "python",
   "nbconvert_exporter": "python",
   "pygments_lexer": "ipython3",
   "version": "3.8.8"
  }
 },
 "nbformat": 4,
 "nbformat_minor": 5
}
