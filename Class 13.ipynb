{
 "cells": [
  {
   "cell_type": "markdown",
   "id": "2c4a4a6f-0f84-4fd2-8f1a-b053b48bd365",
   "metadata": {},
   "source": [
    "# Understanding Classification\n",
    "\n",
    "So far, all the predictive algorithms we have used have been used with the objective of covering regression. Regression refers to making continuous numerical predictions based on data that we have. We might however be interested not in knowing a specific value from prediction, but about if our data belongs to a certain class.\n",
    "\n",
    "For example, we'd like to know if a picture depicts a cat, dog, tree or some other object based on the information given in the pixels. These type of problems are known as classification problems. Models use prediction to calculate the likelihood the information fed to them belongs to a specific class instead of predicting a specific value of the variable itself. "
   ]
  },
  {
   "cell_type": "code",
   "execution_count": 1,
   "id": "7ce84933-9602-4b53-9227-fc4ed2178ec2",
   "metadata": {},
   "outputs": [],
   "source": [
    "import pandas as pd\n",
    "import numpy as np\n",
    "from plotnine import *\n",
    "%matplotlib inline"
   ]
  },
  {
   "cell_type": "code",
   "execution_count": 2,
   "id": "2cc73849-bd31-487a-adc0-510f2d60af57",
   "metadata": {},
   "outputs": [
    {
     "data": {
      "text/html": [
       "<div>\n",
       "<style scoped>\n",
       "    .dataframe tbody tr th:only-of-type {\n",
       "        vertical-align: middle;\n",
       "    }\n",
       "\n",
       "    .dataframe tbody tr th {\n",
       "        vertical-align: top;\n",
       "    }\n",
       "\n",
       "    .dataframe thead th {\n",
       "        text-align: right;\n",
       "    }\n",
       "</style>\n",
       "<table border=\"1\" class=\"dataframe\">\n",
       "  <thead>\n",
       "    <tr style=\"text-align: right;\">\n",
       "      <th></th>\n",
       "      <th>customerID</th>\n",
       "      <th>gender</th>\n",
       "      <th>SeniorCitizen</th>\n",
       "      <th>Partner</th>\n",
       "      <th>Dependents</th>\n",
       "      <th>tenure</th>\n",
       "      <th>PhoneService</th>\n",
       "      <th>MultipleLines</th>\n",
       "      <th>InternetService</th>\n",
       "      <th>OnlineSecurity</th>\n",
       "      <th>...</th>\n",
       "      <th>DeviceProtection</th>\n",
       "      <th>TechSupport</th>\n",
       "      <th>StreamingTV</th>\n",
       "      <th>StreamingMovies</th>\n",
       "      <th>Contract</th>\n",
       "      <th>PaperlessBilling</th>\n",
       "      <th>PaymentMethod</th>\n",
       "      <th>MonthlyCharges</th>\n",
       "      <th>TotalCharges</th>\n",
       "      <th>Churn</th>\n",
       "    </tr>\n",
       "  </thead>\n",
       "  <tbody>\n",
       "    <tr>\n",
       "      <th>0</th>\n",
       "      <td>7590-VHVEG</td>\n",
       "      <td>Female</td>\n",
       "      <td>0</td>\n",
       "      <td>Yes</td>\n",
       "      <td>No</td>\n",
       "      <td>1</td>\n",
       "      <td>No</td>\n",
       "      <td>No phone service</td>\n",
       "      <td>DSL</td>\n",
       "      <td>No</td>\n",
       "      <td>...</td>\n",
       "      <td>No</td>\n",
       "      <td>No</td>\n",
       "      <td>No</td>\n",
       "      <td>No</td>\n",
       "      <td>Month-to-month</td>\n",
       "      <td>Yes</td>\n",
       "      <td>Electronic check</td>\n",
       "      <td>29.85</td>\n",
       "      <td>29.85</td>\n",
       "      <td>No</td>\n",
       "    </tr>\n",
       "    <tr>\n",
       "      <th>1</th>\n",
       "      <td>5575-GNVDE</td>\n",
       "      <td>Male</td>\n",
       "      <td>0</td>\n",
       "      <td>No</td>\n",
       "      <td>No</td>\n",
       "      <td>34</td>\n",
       "      <td>Yes</td>\n",
       "      <td>No</td>\n",
       "      <td>DSL</td>\n",
       "      <td>Yes</td>\n",
       "      <td>...</td>\n",
       "      <td>Yes</td>\n",
       "      <td>No</td>\n",
       "      <td>No</td>\n",
       "      <td>No</td>\n",
       "      <td>One year</td>\n",
       "      <td>No</td>\n",
       "      <td>Mailed check</td>\n",
       "      <td>56.95</td>\n",
       "      <td>1889.5</td>\n",
       "      <td>No</td>\n",
       "    </tr>\n",
       "    <tr>\n",
       "      <th>2</th>\n",
       "      <td>3668-QPYBK</td>\n",
       "      <td>Male</td>\n",
       "      <td>0</td>\n",
       "      <td>No</td>\n",
       "      <td>No</td>\n",
       "      <td>2</td>\n",
       "      <td>Yes</td>\n",
       "      <td>No</td>\n",
       "      <td>DSL</td>\n",
       "      <td>Yes</td>\n",
       "      <td>...</td>\n",
       "      <td>No</td>\n",
       "      <td>No</td>\n",
       "      <td>No</td>\n",
       "      <td>No</td>\n",
       "      <td>Month-to-month</td>\n",
       "      <td>Yes</td>\n",
       "      <td>Mailed check</td>\n",
       "      <td>53.85</td>\n",
       "      <td>108.15</td>\n",
       "      <td>Yes</td>\n",
       "    </tr>\n",
       "    <tr>\n",
       "      <th>3</th>\n",
       "      <td>7795-CFOCW</td>\n",
       "      <td>Male</td>\n",
       "      <td>0</td>\n",
       "      <td>No</td>\n",
       "      <td>No</td>\n",
       "      <td>45</td>\n",
       "      <td>No</td>\n",
       "      <td>No phone service</td>\n",
       "      <td>DSL</td>\n",
       "      <td>Yes</td>\n",
       "      <td>...</td>\n",
       "      <td>Yes</td>\n",
       "      <td>Yes</td>\n",
       "      <td>No</td>\n",
       "      <td>No</td>\n",
       "      <td>One year</td>\n",
       "      <td>No</td>\n",
       "      <td>Bank transfer (automatic)</td>\n",
       "      <td>42.30</td>\n",
       "      <td>1840.75</td>\n",
       "      <td>No</td>\n",
       "    </tr>\n",
       "    <tr>\n",
       "      <th>4</th>\n",
       "      <td>9237-HQITU</td>\n",
       "      <td>Female</td>\n",
       "      <td>0</td>\n",
       "      <td>No</td>\n",
       "      <td>No</td>\n",
       "      <td>2</td>\n",
       "      <td>Yes</td>\n",
       "      <td>No</td>\n",
       "      <td>Fiber optic</td>\n",
       "      <td>No</td>\n",
       "      <td>...</td>\n",
       "      <td>No</td>\n",
       "      <td>No</td>\n",
       "      <td>No</td>\n",
       "      <td>No</td>\n",
       "      <td>Month-to-month</td>\n",
       "      <td>Yes</td>\n",
       "      <td>Electronic check</td>\n",
       "      <td>70.70</td>\n",
       "      <td>151.65</td>\n",
       "      <td>Yes</td>\n",
       "    </tr>\n",
       "  </tbody>\n",
       "</table>\n",
       "<p>5 rows × 21 columns</p>\n",
       "</div>"
      ],
      "text/plain": [
       "   customerID  gender  SeniorCitizen Partner Dependents  tenure PhoneService  \\\n",
       "0  7590-VHVEG  Female              0     Yes         No       1           No   \n",
       "1  5575-GNVDE    Male              0      No         No      34          Yes   \n",
       "2  3668-QPYBK    Male              0      No         No       2          Yes   \n",
       "3  7795-CFOCW    Male              0      No         No      45           No   \n",
       "4  9237-HQITU  Female              0      No         No       2          Yes   \n",
       "\n",
       "      MultipleLines InternetService OnlineSecurity  ... DeviceProtection  \\\n",
       "0  No phone service             DSL             No  ...               No   \n",
       "1                No             DSL            Yes  ...              Yes   \n",
       "2                No             DSL            Yes  ...               No   \n",
       "3  No phone service             DSL            Yes  ...              Yes   \n",
       "4                No     Fiber optic             No  ...               No   \n",
       "\n",
       "  TechSupport StreamingTV StreamingMovies        Contract PaperlessBilling  \\\n",
       "0          No          No              No  Month-to-month              Yes   \n",
       "1          No          No              No        One year               No   \n",
       "2          No          No              No  Month-to-month              Yes   \n",
       "3         Yes          No              No        One year               No   \n",
       "4          No          No              No  Month-to-month              Yes   \n",
       "\n",
       "               PaymentMethod MonthlyCharges  TotalCharges Churn  \n",
       "0           Electronic check          29.85         29.85    No  \n",
       "1               Mailed check          56.95        1889.5    No  \n",
       "2               Mailed check          53.85        108.15   Yes  \n",
       "3  Bank transfer (automatic)          42.30       1840.75    No  \n",
       "4           Electronic check          70.70        151.65   Yes  \n",
       "\n",
       "[5 rows x 21 columns]"
      ]
     },
     "execution_count": 2,
     "metadata": {},
     "output_type": "execute_result"
    }
   ],
   "source": [
    "#Let's get the Telco User churn dataset\n",
    "\n",
    "df = pd.read_csv(\"User-Churn.csv\")\n",
    "df.head()"
   ]
  },
  {
   "cell_type": "markdown",
   "id": "b74286fb-86e6-4936-addb-63640d0006d2",
   "metadata": {},
   "source": [
    "Could we determine based on the data that we have if a person will have a churn code of yes? We will start by defining all of our categorical variables as such and move from then on\n"
   ]
  },
  {
   "cell_type": "code",
   "execution_count": 3,
   "id": "1801dbbe-b513-467c-acd3-cd48423423a8",
   "metadata": {},
   "outputs": [
    {
     "data": {
      "text/html": [
       "<div>\n",
       "<style scoped>\n",
       "    .dataframe tbody tr th:only-of-type {\n",
       "        vertical-align: middle;\n",
       "    }\n",
       "\n",
       "    .dataframe tbody tr th {\n",
       "        vertical-align: top;\n",
       "    }\n",
       "\n",
       "    .dataframe thead th {\n",
       "        text-align: right;\n",
       "    }\n",
       "</style>\n",
       "<table border=\"1\" class=\"dataframe\">\n",
       "  <thead>\n",
       "    <tr style=\"text-align: right;\">\n",
       "      <th></th>\n",
       "      <th>gender</th>\n",
       "      <th>gender_code</th>\n",
       "    </tr>\n",
       "  </thead>\n",
       "  <tbody>\n",
       "    <tr>\n",
       "      <th>0</th>\n",
       "      <td>Female</td>\n",
       "      <td>0</td>\n",
       "    </tr>\n",
       "    <tr>\n",
       "      <th>1</th>\n",
       "      <td>Male</td>\n",
       "      <td>1</td>\n",
       "    </tr>\n",
       "    <tr>\n",
       "      <th>2</th>\n",
       "      <td>Male</td>\n",
       "      <td>1</td>\n",
       "    </tr>\n",
       "    <tr>\n",
       "      <th>3</th>\n",
       "      <td>Male</td>\n",
       "      <td>1</td>\n",
       "    </tr>\n",
       "    <tr>\n",
       "      <th>4</th>\n",
       "      <td>Female</td>\n",
       "      <td>0</td>\n",
       "    </tr>\n",
       "  </tbody>\n",
       "</table>\n",
       "</div>"
      ],
      "text/plain": [
       "   gender  gender_code\n",
       "0  Female            0\n",
       "1    Male            1\n",
       "2    Male            1\n",
       "3    Male            1\n",
       "4  Female            0"
      ]
     },
     "execution_count": 3,
     "metadata": {},
     "output_type": "execute_result"
    }
   ],
   "source": [
    "#Example with gender\n",
    "\n",
    "df.gender = pd.Categorical(df.gender)\n",
    "df['gender_code'] = df.gender.cat.codes\n",
    "df[['gender','gender_code']].head()"
   ]
  },
  {
   "cell_type": "markdown",
   "id": "691ce566-cadc-4482-9a26-6915e52da9d3",
   "metadata": {},
   "source": [
    "This type of variable encoding is known as \"one-hot encoding\" or dummy variables. We will go ahead and turn all of these variables into dummies, using the method above. Note that the code I am using up to this point (and for the next few cells for preprocessing) is coming directly from [here](https://github.com/spierre91/medium_code/blob/45bde0c3a960a60a87fe45935a86fd7bc25c8441/keras_classification.py)  and is the work of Pierre Sadrach."
   ]
  },
  {
   "cell_type": "code",
   "execution_count": 4,
   "id": "af497362-7cbd-49ae-a0a9-96dc417cdb79",
   "metadata": {},
   "outputs": [],
   "source": [
    "df.SeniorCitizen = pd.Categorical(df.SeniorCitizen)\n",
    "df['SeniorCitizen_code'] = df.SeniorCitizen.cat.codes\n",
    "\n",
    "\n",
    "df.PhoneService = pd.Categorical(df.PhoneService)\n",
    "df['PhoneService_code'] = df.PhoneService.cat.codes\n",
    "\n",
    "df.MultipleLines = pd.Categorical(df.MultipleLines)\n",
    "df['MultipleLines_code'] = df.MultipleLines.cat.codes\n",
    "\n",
    "df.InternetService = pd.Categorical(df.InternetService)\n",
    "df['InternetService_code'] = df.InternetService.cat.codes\n",
    "\n",
    "\n",
    "df.Partner = pd.Categorical(df.Partner)\n",
    "df['Partner_code'] = df.Partner.cat.codes\n",
    "\n",
    "df.Dependents = pd.Categorical(df.Dependents)\n",
    "df['Dependents_code'] = df.Dependents.cat.codes\n",
    "\n",
    "df.OnlineSecurity = pd.Categorical(df.OnlineSecurity)\n",
    "df['OnlineSecurity_code'] = df.OnlineSecurity.cat.codes\n",
    "\n",
    "df.OnlineBackup = pd.Categorical(df.OnlineBackup)\n",
    "df['OnlineBackup_code'] = df.OnlineBackup.cat.codes\n",
    "\n",
    "df.DeviceProtection = pd.Categorical(df.DeviceProtection)\n",
    "df['DeviceProtection_code'] = df.DeviceProtection.cat.codes\n",
    "\n",
    "\n",
    "df.TechSupport = pd.Categorical(df.TechSupport)\n",
    "df['TechSupport_code'] = df.TechSupport.cat.codes\n",
    "\n",
    "df.StreamingTV = pd.Categorical(df.StreamingTV)\n",
    "df['StreamingTV_code'] = df.StreamingTV.cat.codes\n",
    "\n",
    "\n",
    "df.StreamingMovies = pd.Categorical(df.StreamingMovies)\n",
    "df['StreamingMovies_code'] = df.StreamingMovies.cat.codes\n",
    "\n",
    "df.Contract = pd.Categorical(df.Contract)\n",
    "df['Contract_code'] = df.Contract.cat.codes\n",
    "\n",
    "df.PaperlessBilling = pd.Categorical(df.PaperlessBilling)\n",
    "df['PaperlessBilling_code'] = df.PaperlessBilling.cat.codes\n",
    "\n",
    "df.PaymentMethod = pd.Categorical(df.PaymentMethod)\n",
    "df['PaymentMethod_code'] = df.PaymentMethod.cat.codes\n",
    "\n",
    "df.Churn = pd.Categorical(df.Churn)\n",
    "df['Churn_code'] = df.Churn.cat.codes"
   ]
  },
  {
   "cell_type": "code",
   "execution_count": 5,
   "id": "b09ff0d7-1f54-443e-96d9-64662aea9db1",
   "metadata": {},
   "outputs": [],
   "source": [
    "features = ['gender_code', 'SeniorCitizen_code', 'PhoneService_code', 'MultipleLines_code', \n",
    "                 'InternetService_code', 'Partner_code', 'Dependents_code', 'PaymentMethod_code', \n",
    "                 'PaymentMethod_code', 'PaperlessBilling_code','Contract_code', 'StreamingMovies_code',\n",
    "                 'StreamingTV_code', 'TechSupport_code', 'DeviceProtection_code', 'OnlineBackup_code',\n",
    "                 'OnlineSecurity_code', 'Dependents_code', 'Partner_code','tenure', 'MonthlyCharges']\n"
   ]
  },
  {
   "cell_type": "code",
   "execution_count": 6,
   "id": "c65d7b01-cf1e-45f8-8538-3625528ee3e2",
   "metadata": {},
   "outputs": [],
   "source": [
    "from sklearn.model_selection import train_test_split\n",
    "\n",
    "train, test = train_test_split(df,\n",
    "                               test_size=0.2, \n",
    "                               random_state=42,\n",
    "                               shuffle=True)\n"
   ]
  },
  {
   "cell_type": "markdown",
   "id": "193602ed-5d2c-4380-91fa-0cc509319a62",
   "metadata": {},
   "source": [
    "## K Nearest neighbors\n",
    "\n",
    "The logic of K nearest neighbors is similar. But instead of assigning averages of our y variable since this one is categorical, we give our predictions the one that is the most frequenet."
   ]
  },
  {
   "cell_type": "code",
   "execution_count": 7,
   "id": "acc58f8c-26b5-4994-b864-597e5baa686d",
   "metadata": {},
   "outputs": [],
   "source": [
    "from sklearn.neighbors import KNeighborsClassifier as knnc\n",
    "from sklearn.metrics import accuracy_score\n",
    "from sklearn.metrics import confusion_matrix\n",
    "from sklearn.metrics import classification_report\n"
   ]
  },
  {
   "cell_type": "code",
   "execution_count": 8,
   "id": "a4693426-0db7-4a17-9d00-754ebaac0d51",
   "metadata": {},
   "outputs": [],
   "source": [
    "#For now let's start with a 5 neighbor KNN\n",
    "\n",
    "knn_5=knnc(n_neighbors=5).fit(y=train['Churn_code'],\n",
    "                       X=train[features])"
   ]
  },
  {
   "cell_type": "code",
   "execution_count": 9,
   "id": "55512ae9-cdaf-4a8a-ae43-811c4b0bd744",
   "metadata": {},
   "outputs": [
    {
     "data": {
      "text/plain": [
       "array([0, 0, 1, ..., 0, 1, 0], dtype=int8)"
      ]
     },
     "execution_count": 9,
     "metadata": {},
     "output_type": "execute_result"
    }
   ],
   "source": [
    "#we need to do things a bit differently. First let's get the predictions\n",
    "\n",
    "k5trainpred=knn_5.predict(train[features])\n",
    "\n",
    "k5trainpred"
   ]
  },
  {
   "cell_type": "markdown",
   "id": "b5093144-4dd3-4759-99c6-ae0a14e81f30",
   "metadata": {},
   "source": [
    "## Evaluating a classification model\n",
    "\n",
    "We should know how well we are doing to decide if we are going to change our hyperpameters and see what we obtain\n"
   ]
  },
  {
   "cell_type": "code",
   "execution_count": 10,
   "id": "291e7eee-d8f9-4255-b8a0-5c5bc432ab7e",
   "metadata": {},
   "outputs": [
    {
     "name": "stdout",
     "output_type": "stream",
     "text": [
      "              precision    recall  f1-score   support\n",
      "\n",
      "           0       0.88      0.91      0.89      4138\n",
      "           1       0.72      0.65      0.68      1496\n",
      "\n",
      "    accuracy                           0.84      5634\n",
      "   macro avg       0.80      0.78      0.79      5634\n",
      "weighted avg       0.83      0.84      0.84      5634\n",
      "\n"
     ]
    }
   ],
   "source": [
    "print(classification_report(y_pred=k5trainpred, y_true=train['Churn_code']))"
   ]
  },
  {
   "cell_type": "markdown",
   "id": "69938d75-9105-4146-8d58-edf8ca70793a",
   "metadata": {},
   "source": [
    "Ok... what are these numbers? These all come from the \"Confusion matrix\""
   ]
  },
  {
   "cell_type": "code",
   "execution_count": 11,
   "id": "e9819b87-c968-4c99-b7a0-db41d8630789",
   "metadata": {},
   "outputs": [
    {
     "data": {
      "text/html": [
       "<div>\n",
       "<style scoped>\n",
       "    .dataframe tbody tr th:only-of-type {\n",
       "        vertical-align: middle;\n",
       "    }\n",
       "\n",
       "    .dataframe tbody tr th {\n",
       "        vertical-align: top;\n",
       "    }\n",
       "\n",
       "    .dataframe thead th {\n",
       "        text-align: right;\n",
       "    }\n",
       "</style>\n",
       "<table border=\"1\" class=\"dataframe\">\n",
       "  <thead>\n",
       "    <tr style=\"text-align: right;\">\n",
       "      <th></th>\n",
       "      <th>pred:0</th>\n",
       "      <th>pred:1</th>\n",
       "    </tr>\n",
       "  </thead>\n",
       "  <tbody>\n",
       "    <tr>\n",
       "      <th>true:0</th>\n",
       "      <td>3757</td>\n",
       "      <td>381</td>\n",
       "    </tr>\n",
       "    <tr>\n",
       "      <th>true:1</th>\n",
       "      <td>529</td>\n",
       "      <td>967</td>\n",
       "    </tr>\n",
       "  </tbody>\n",
       "</table>\n",
       "</div>"
      ],
      "text/plain": [
       "        pred:0  pred:1\n",
       "true:0    3757     381\n",
       "true:1     529     967"
      ]
     },
     "execution_count": 11,
     "metadata": {},
     "output_type": "execute_result"
    }
   ],
   "source": [
    "pd.DataFrame(confusion_matrix(y_pred=k5trainpred, y_true=train['Churn_code']),\n",
    "             index=['true:0', 'true:1'], \n",
    "    columns=['pred:0', 'pred:1'])"
   ]
  },
  {
   "cell_type": "markdown",
   "id": "32eec92f-9bfe-4939-a4d5-51c7df7aafc1",
   "metadata": {},
   "source": [
    "In the data frame above, the row names are the number  of true zeros and 1s in the data, and the columns have the predictions. The values then tell you what number was at the interesection of both situations.\n",
    "\n",
    "For example, there were 3757 observations that were true zeros that were predicted as zero. In turn, there are 529 true observations of 1s that were predicted as zero.\n",
    "\n",
    "\n",
    "### Precision\n",
    "\n",
    "\n",
    "Examine the number below that I built from the confusion matrix and let's analyze what it represents"
   ]
  },
  {
   "cell_type": "code",
   "execution_count": 12,
   "id": "13a50e17-e8f8-4e2e-a11b-0458f265868c",
   "metadata": {},
   "outputs": [
    {
     "data": {
      "text/plain": [
       "0.8765748950069996"
      ]
     },
     "execution_count": 12,
     "metadata": {},
     "output_type": "execute_result"
    }
   ],
   "source": [
    "\n",
    "(3757)/(3757+529)"
   ]
  },
  {
   "cell_type": "markdown",
   "id": "ec22daa7-226e-438f-ab58-87bf2b037c6e",
   "metadata": {},
   "source": [
    "As you can see, the numbers 3757 and 529 belong in the first column of the matrix. These are all observations that were predicted to be zero. Their sum is in the denominator. The numerator is the ones that were correctly predicted to be zero.\n",
    "\n",
    "Precision then denotes the proportion of correct predictions of a class when we take into account all the predictions of that class."
   ]
  },
  {
   "cell_type": "markdown",
   "id": "404c8b35-8f33-436a-87c9-920855e26080",
   "metadata": {},
   "source": [
    "### Recall\n",
    "\n",
    "Similarly, analyze this number"
   ]
  },
  {
   "cell_type": "code",
   "execution_count": 13,
   "id": "b00105c8-b1f6-43f9-a437-73f83480da92",
   "metadata": {},
   "outputs": [
    {
     "data": {
      "text/plain": [
       "0.9079265345577574"
      ]
     },
     "execution_count": 13,
     "metadata": {},
     "output_type": "execute_result"
    }
   ],
   "source": [
    "3757/(3757+381)"
   ]
  },
  {
   "cell_type": "markdown",
   "id": "49aeb660-b56b-4520-bfea-01eec99b4e33",
   "metadata": {},
   "source": [
    "Now look at the first row of the confusion matrix! This is the proportion of true zero label observations that was predicted correctly!\n",
    "\n",
    "\n",
    "In summary, we have this:\n",
    "\n",
    "\n",
    "![Precision vs Recall](https://upload.wikimedia.org/wikipedia/commons/thumb/2/26/Precisionrecall.svg/700px-Precisionrecall.svg.png)\n",
    "\n",
    "\n",
    "\n",
    "## F1 score\n",
    "\n",
    "The F1 score is a score that balances both precision and recall\n",
    "\n",
    "\n",
    "$$F1=\\frac{2}{precision^{-1}+recall^{-1}}$$\n",
    "\n",
    "\n",
    "Which we can think of a \"balance\" of precision and recall. We generally prioritize precision or recall depending on what is our goal for prediction.\n",
    "\n",
    "\n",
    "One more number:\n",
    "\n",
    "## Accuracy"
   ]
  },
  {
   "cell_type": "code",
   "execution_count": 14,
   "id": "8c647618-21ff-4fa3-adb5-bdcde6d355fa",
   "metadata": {},
   "outputs": [
    {
     "data": {
      "text/plain": [
       "0.8384806531771388"
      ]
     },
     "execution_count": 14,
     "metadata": {},
     "output_type": "execute_result"
    }
   ],
   "source": [
    "(3757+967)/(3757+967+381 +529)"
   ]
  },
  {
   "cell_type": "markdown",
   "id": "80aa46d5-4b48-4f0c-9e65-73d3394d36b4",
   "metadata": {},
   "source": [
    "This is the proportion of correctly predicted observations across ALL\n",
    "\n",
    "\n",
    "Let's call our report once more:"
   ]
  },
  {
   "cell_type": "code",
   "execution_count": 15,
   "id": "b6e8e73c-be30-44c1-8a12-664cb67f639c",
   "metadata": {},
   "outputs": [
    {
     "name": "stdout",
     "output_type": "stream",
     "text": [
      "              precision    recall  f1-score   support\n",
      "\n",
      "           0       0.88      0.91      0.89      4138\n",
      "           1       0.72      0.65      0.68      1496\n",
      "\n",
      "    accuracy                           0.84      5634\n",
      "   macro avg       0.80      0.78      0.79      5634\n",
      "weighted avg       0.83      0.84      0.84      5634\n",
      "\n"
     ]
    }
   ],
   "source": [
    "print(classification_report(y_pred=k5trainpred, y_true=train['Churn_code']))"
   ]
  },
  {
   "cell_type": "markdown",
   "id": "8ed40393-4239-464e-bdc6-033c521810d3",
   "metadata": {},
   "source": [
    "It seems that overall we have done pretty well! But what if we tried the test data?"
   ]
  },
  {
   "cell_type": "code",
   "execution_count": 16,
   "id": "27259e4f-e9ac-4b30-9240-167ec0aca9e5",
   "metadata": {},
   "outputs": [],
   "source": [
    "k5testpred=knn_5.predict(test[features])\n"
   ]
  },
  {
   "cell_type": "code",
   "execution_count": 17,
   "id": "b392a2ab-3dd2-4cfc-ba2e-6bdc827bf820",
   "metadata": {},
   "outputs": [
    {
     "name": "stdout",
     "output_type": "stream",
     "text": [
      "              precision    recall  f1-score   support\n",
      "\n",
      "           0       0.83      0.87      0.85      1036\n",
      "           1       0.57      0.49      0.53       373\n",
      "\n",
      "    accuracy                           0.77      1409\n",
      "   macro avg       0.70      0.68      0.69      1409\n",
      "weighted avg       0.76      0.77      0.76      1409\n",
      "\n"
     ]
    }
   ],
   "source": [
    "print(classification_report(y_pred=k5testpred, y_true=test['Churn_code']))"
   ]
  },
  {
   "cell_type": "markdown",
   "id": "885223f9-7941-4435-b454-38666657a537",
   "metadata": {},
   "source": [
    "We have not done too poorly! Depending on what is our target, we could do the same exercise we did for regression and fine a number of neighbors that we'd like. For the sake of simplicity, let's use accuracy.\n",
    "\n",
    "We can call accuracy directly from python"
   ]
  },
  {
   "cell_type": "code",
   "execution_count": 18,
   "id": "6199181a-739a-458a-a695-da564a1ace46",
   "metadata": {},
   "outputs": [
    {
     "data": {
      "text/plain": [
       "0.7672107877927609"
      ]
     },
     "execution_count": 18,
     "metadata": {},
     "output_type": "execute_result"
    }
   ],
   "source": [
    "accuracy_score(y_pred=k5testpred, y_true=test['Churn_code'])"
   ]
  },
  {
   "cell_type": "code",
   "execution_count": 19,
   "id": "a077bbc9-263e-48b7-989d-3e7037b24c6c",
   "metadata": {},
   "outputs": [],
   "source": [
    "# Training scores\n",
    "\n",
    "scoretrain=[accuracy_score(y_pred=knnc(n_neighbors=i).fit(y=train['Churn_code'],\n",
    "                       X=train[features]).predict(train[features]),\n",
    "                          y_true=train['Churn_code']) for i in list(range(5, 100, 2))]\n",
    "\n",
    "\n"
   ]
  },
  {
   "cell_type": "code",
   "execution_count": 20,
   "id": "00d28d73-a32b-41e1-b018-27885c3d5f38",
   "metadata": {},
   "outputs": [],
   "source": [
    "trainscore=pd.DataFrame(scoretrain, columns=[\"accuracy\"])\n",
    "\n",
    "trainscore['datsplit']='Training'\n",
    "trainscore['neighbors']=list(range(5, 100, 2))"
   ]
  },
  {
   "cell_type": "code",
   "execution_count": 21,
   "id": "84cc8d01-09a6-43a0-b055-d19e3857eca0",
   "metadata": {},
   "outputs": [
    {
     "data": {
      "text/html": [
       "<div>\n",
       "<style scoped>\n",
       "    .dataframe tbody tr th:only-of-type {\n",
       "        vertical-align: middle;\n",
       "    }\n",
       "\n",
       "    .dataframe tbody tr th {\n",
       "        vertical-align: top;\n",
       "    }\n",
       "\n",
       "    .dataframe thead th {\n",
       "        text-align: right;\n",
       "    }\n",
       "</style>\n",
       "<table border=\"1\" class=\"dataframe\">\n",
       "  <thead>\n",
       "    <tr style=\"text-align: right;\">\n",
       "      <th></th>\n",
       "      <th>accuracy</th>\n",
       "      <th>datsplit</th>\n",
       "      <th>neighbors</th>\n",
       "    </tr>\n",
       "  </thead>\n",
       "  <tbody>\n",
       "    <tr>\n",
       "      <th>0</th>\n",
       "      <td>0.838481</td>\n",
       "      <td>Training</td>\n",
       "      <td>5</td>\n",
       "    </tr>\n",
       "    <tr>\n",
       "      <th>1</th>\n",
       "      <td>0.831913</td>\n",
       "      <td>Training</td>\n",
       "      <td>7</td>\n",
       "    </tr>\n",
       "    <tr>\n",
       "      <th>2</th>\n",
       "      <td>0.824104</td>\n",
       "      <td>Training</td>\n",
       "      <td>9</td>\n",
       "    </tr>\n",
       "    <tr>\n",
       "      <th>3</th>\n",
       "      <td>0.816471</td>\n",
       "      <td>Training</td>\n",
       "      <td>11</td>\n",
       "    </tr>\n",
       "    <tr>\n",
       "      <th>4</th>\n",
       "      <td>0.813454</td>\n",
       "      <td>Training</td>\n",
       "      <td>13</td>\n",
       "    </tr>\n",
       "  </tbody>\n",
       "</table>\n",
       "</div>"
      ],
      "text/plain": [
       "   accuracy  datsplit  neighbors\n",
       "0  0.838481  Training          5\n",
       "1  0.831913  Training          7\n",
       "2  0.824104  Training          9\n",
       "3  0.816471  Training         11\n",
       "4  0.813454  Training         13"
      ]
     },
     "execution_count": 21,
     "metadata": {},
     "output_type": "execute_result"
    }
   ],
   "source": [
    "trainscore.head()"
   ]
  },
  {
   "cell_type": "code",
   "execution_count": 22,
   "id": "b5333cd3-5aae-4ef0-b62f-027ab335e608",
   "metadata": {},
   "outputs": [],
   "source": [
    "scoretest=[accuracy_score(y_pred=knnc(n_neighbors=i).fit(y=train['Churn_code'],\n",
    "                       X=train[features]).predict(test[features]),\n",
    "                          y_true=test['Churn_code']) for i in list(range(5, 100, 2))]\n",
    "\n"
   ]
  },
  {
   "cell_type": "code",
   "execution_count": 23,
   "id": "39c8a0da-0666-4e41-83a2-dc8650c5aa15",
   "metadata": {},
   "outputs": [],
   "source": [
    "testscore=pd.DataFrame(scoretest, columns=[\"accuracy\"])\n",
    "\n",
    "testscore['datsplit']='Testing'\n",
    "testscore['neighbors']=list(range(5, 100, 2))"
   ]
  },
  {
   "cell_type": "code",
   "execution_count": 24,
   "id": "0c43c725-e80c-4ae9-8bf7-e91ad6133e6c",
   "metadata": {},
   "outputs": [
    {
     "data": {
      "text/html": [
       "<div>\n",
       "<style scoped>\n",
       "    .dataframe tbody tr th:only-of-type {\n",
       "        vertical-align: middle;\n",
       "    }\n",
       "\n",
       "    .dataframe tbody tr th {\n",
       "        vertical-align: top;\n",
       "    }\n",
       "\n",
       "    .dataframe thead th {\n",
       "        text-align: right;\n",
       "    }\n",
       "</style>\n",
       "<table border=\"1\" class=\"dataframe\">\n",
       "  <thead>\n",
       "    <tr style=\"text-align: right;\">\n",
       "      <th></th>\n",
       "      <th>accuracy</th>\n",
       "      <th>datsplit</th>\n",
       "      <th>neighbors</th>\n",
       "    </tr>\n",
       "  </thead>\n",
       "  <tbody>\n",
       "    <tr>\n",
       "      <th>0</th>\n",
       "      <td>0.767211</td>\n",
       "      <td>Testing</td>\n",
       "      <td>5</td>\n",
       "    </tr>\n",
       "    <tr>\n",
       "      <th>1</th>\n",
       "      <td>0.771469</td>\n",
       "      <td>Testing</td>\n",
       "      <td>7</td>\n",
       "    </tr>\n",
       "    <tr>\n",
       "      <th>2</th>\n",
       "      <td>0.787793</td>\n",
       "      <td>Testing</td>\n",
       "      <td>9</td>\n",
       "    </tr>\n",
       "    <tr>\n",
       "      <th>3</th>\n",
       "      <td>0.790632</td>\n",
       "      <td>Testing</td>\n",
       "      <td>11</td>\n",
       "    </tr>\n",
       "    <tr>\n",
       "      <th>4</th>\n",
       "      <td>0.792761</td>\n",
       "      <td>Testing</td>\n",
       "      <td>13</td>\n",
       "    </tr>\n",
       "  </tbody>\n",
       "</table>\n",
       "</div>"
      ],
      "text/plain": [
       "   accuracy datsplit  neighbors\n",
       "0  0.767211  Testing          5\n",
       "1  0.771469  Testing          7\n",
       "2  0.787793  Testing          9\n",
       "3  0.790632  Testing         11\n",
       "4  0.792761  Testing         13"
      ]
     },
     "execution_count": 24,
     "metadata": {},
     "output_type": "execute_result"
    }
   ],
   "source": [
    "testscore.head()"
   ]
  },
  {
   "cell_type": "code",
   "execution_count": 25,
   "id": "57f1c8bc-b341-4068-a7de-d7a5f2873e7c",
   "metadata": {},
   "outputs": [],
   "source": [
    "score_df=pd.concat([trainscore,testscore], axis=0)\n",
    "\n"
   ]
  },
  {
   "cell_type": "code",
   "execution_count": 26,
   "id": "67603691-2a7b-402f-a722-6ce96606a07c",
   "metadata": {},
   "outputs": [
    {
     "data": {
      "image/png": "[encoded data removed]",
      "text/plain": [
       "<Figure size 640x480 with 1 Axes>"
      ]
     },
     "metadata": {},
     "output_type": "display_data"
    },
    {
     "data": {
      "text/plain": [
       "<ggplot: (8768507507182)>"
      ]
     },
     "execution_count": 26,
     "metadata": {},
     "output_type": "execute_result"
    }
   ],
   "source": [
    "(ggplot(score_df, aes(x='neighbors', y='accuracy', color='datsplit'))+\n",
    "geom_line()+\n",
    "scale_color_manual(values=['darkorange', 'steelblue'])+\n",
    " theme_bw()\n",
    ")"
   ]
  },
  {
   "cell_type": "markdown",
   "id": "302cc33c-3816-417b-9282-2680a30b98c7",
   "metadata": {},
   "source": [
    "Maybe we should be using something else?\n",
    "\n"
   ]
  },
  {
   "cell_type": "code",
   "execution_count": 27,
   "id": "f48acfa5-acf0-46f8-8dc4-1a002fcbb199",
   "metadata": {},
   "outputs": [],
   "source": [
    "from sklearn.metrics import f1_score"
   ]
  },
  {
   "cell_type": "code",
   "execution_count": 28,
   "id": "fbcf89ea-15e8-4583-a92e-982a092fa93c",
   "metadata": {},
   "outputs": [],
   "source": [
    "# Training scores\n",
    "\n",
    "f1train=[f1_score(y_pred=knnc(n_neighbors=i).fit(y=train['Churn_code'],\n",
    "                       X=train[features]).predict(train[features]),\n",
    "                          y_true=train['Churn_code']) for i in list(range(5, 100, 2))]\n",
    "\n"
   ]
  },
  {
   "cell_type": "code",
   "execution_count": 29,
   "id": "8f7149d3-65eb-45da-9af9-a91eb7314177",
   "metadata": {},
   "outputs": [],
   "source": [
    "trainf1=pd.DataFrame(f1train, columns=[\"F1score\"])\n",
    "\n",
    "trainf1['datsplit']='Training'\n",
    "trainf1['neighbors']=list(range(5, 100, 2))"
   ]
  },
  {
   "cell_type": "code",
   "execution_count": 30,
   "id": "3cb2fc96-5e27-49e5-a803-0fed05651bdf",
   "metadata": {},
   "outputs": [],
   "source": [
    "f1test=[f1_score(y_pred=knnc(n_neighbors=i).fit(y=train['Churn_code'],\n",
    "                       X=train[features]).predict(test[features]),\n",
    "                          y_true=test['Churn_code']) for i in list(range(5, 100, 2))]\n",
    "\n"
   ]
  },
  {
   "cell_type": "code",
   "execution_count": 31,
   "id": "99bf27e2-1c25-4482-896d-80480c968cc3",
   "metadata": {},
   "outputs": [],
   "source": [
    "testf1=pd.DataFrame(f1test, columns=[\"F1score\"])\n",
    "\n",
    "testf1['datsplit']='Testing'\n",
    "testf1['neighbors']=list(range(5, 100, 2))"
   ]
  },
  {
   "cell_type": "code",
   "execution_count": 32,
   "id": "ecda73c9-a984-4068-adab-d7013d92206f",
   "metadata": {},
   "outputs": [],
   "source": [
    "f1_df=pd.concat([trainf1,testf1], axis=0)\n"
   ]
  },
  {
   "cell_type": "code",
   "execution_count": 33,
   "id": "4a56d2d3-2165-4d8c-8724-8f8ec49fd825",
   "metadata": {},
   "outputs": [
    {
     "data": {
      "image/png": "[encoded data removed]",
      "text/plain": [
       "<Figure size 640x480 with 1 Axes>"
      ]
     },
     "metadata": {},
     "output_type": "display_data"
    },
    {
     "data": {
      "text/plain": [
       "<ggplot: (8768508046803)>"
      ]
     },
     "execution_count": 33,
     "metadata": {},
     "output_type": "execute_result"
    }
   ],
   "source": [
    "(ggplot(f1_df, aes(x='neighbors', y='F1score', color='datsplit'))+\n",
    "geom_line()+\n",
    "scale_color_manual(values=['darkorange', 'steelblue'])+\n",
    " theme_bw()\n",
    ")"
   ]
  },
  {
   "cell_type": "markdown",
   "id": "3d93d558-4938-4424-b612-3fc0c89fc733",
   "metadata": {},
   "source": [
    "OK, so maybe it is harder to think about these methods like this. But we still managed to have some idea of what a good model is. We will try some other techniques for analyzing it later. \n"
   ]
  },
  {
   "cell_type": "markdown",
   "id": "d876e27e-af03-4099-8a28-f103c66492da",
   "metadata": {},
   "source": [
    "## Random Forest Classifiers"
   ]
  },
  {
   "cell_type": "code",
   "execution_count": 34,
   "id": "e50d5f42-4e67-466e-bb05-a08258a93709",
   "metadata": {},
   "outputs": [],
   "source": [
    "from sklearn.ensemble import RandomForestClassifier as rf_clf\n"
   ]
  },
  {
   "cell_type": "markdown",
   "id": "49713d9d-0296-4943-a3e9-e63f894ba81b",
   "metadata": {},
   "source": [
    "The scikit learn defaults are 100 estimators. We will use the defaults for now to show something interesting about the classifiers that use the more complicated algorithms. "
   ]
  },
  {
   "cell_type": "code",
   "execution_count": 35,
   "id": "51f29739-2f5c-4541-ae82-f95f12b5fda9",
   "metadata": {},
   "outputs": [
    {
     "data": {
      "text/plain": [
       "array([0, 0, 1, ..., 0, 1, 0], dtype=int8)"
      ]
     },
     "execution_count": 35,
     "metadata": {},
     "output_type": "execute_result"
    }
   ],
   "source": [
    "#our class predictions\n",
    "\n",
    "rftrainpred=rf_clf().fit(y=train['Churn_code'],\n",
    "                       X=train[features]).predict(train[features])\n",
    "\n",
    "rftrainpred"
   ]
  },
  {
   "cell_type": "code",
   "execution_count": 36,
   "id": "0c1830e8-fc1d-40b9-93c8-be51e3e9deb9",
   "metadata": {},
   "outputs": [
    {
     "data": {
      "text/plain": [
       "array([[0.97, 0.03],\n",
       "       [0.94, 0.06],\n",
       "       [0.18, 0.82],\n",
       "       ...,\n",
       "       [0.96, 0.04],\n",
       "       [0.02, 0.98],\n",
       "       [1.  , 0.  ]])"
      ]
     },
     "execution_count": 36,
     "metadata": {},
     "output_type": "execute_result"
    }
   ],
   "source": [
    "#predicting probabilities\n",
    "\n",
    "rftrainpredprob=rf_clf().fit(y=train['Churn_code'],\n",
    "                       X=train[features]).predict_proba(train[features])\n",
    "\n",
    "rftrainpredprob"
   ]
  },
  {
   "cell_type": "code",
   "execution_count": 37,
   "id": "fda1720b-c75e-489d-acdf-c6390ffde51e",
   "metadata": {},
   "outputs": [],
   "source": [
    "rfdf=pd.DataFrame()\n",
    "\n",
    "rfdf['class_predicted']=rftrainpred\n",
    "\n",
    "rfdf['prob_0'], rfdf['prob_1']=rftrainpredprob.T"
   ]
  },
  {
   "cell_type": "code",
   "execution_count": 38,
   "id": "94a92e5e-77c0-48e3-9103-8f145dc94187",
   "metadata": {},
   "outputs": [],
   "source": [
    "rfdf.dropna(inplace=True)"
   ]
  },
  {
   "cell_type": "code",
   "execution_count": 44,
   "id": "b868a978-d427-4dd9-8933-a60cfbec2bdd",
   "metadata": {},
   "outputs": [
    {
     "data": {
      "text/html": [
       "<div>\n",
       "<style scoped>\n",
       "    .dataframe tbody tr th:only-of-type {\n",
       "        vertical-align: middle;\n",
       "    }\n",
       "\n",
       "    .dataframe tbody tr th {\n",
       "        vertical-align: top;\n",
       "    }\n",
       "\n",
       "    .dataframe thead th {\n",
       "        text-align: right;\n",
       "    }\n",
       "</style>\n",
       "<table border=\"1\" class=\"dataframe\">\n",
       "  <thead>\n",
       "    <tr style=\"text-align: right;\">\n",
       "      <th></th>\n",
       "      <th>class_predicted</th>\n",
       "      <th>prob_0</th>\n",
       "      <th>prob_1</th>\n",
       "      <th>True</th>\n",
       "    </tr>\n",
       "  </thead>\n",
       "  <tbody>\n",
       "    <tr>\n",
       "      <th>0</th>\n",
       "      <td>0</td>\n",
       "      <td>0.97</td>\n",
       "      <td>0.03</td>\n",
       "      <td>0.0</td>\n",
       "    </tr>\n",
       "    <tr>\n",
       "      <th>1</th>\n",
       "      <td>0</td>\n",
       "      <td>0.94</td>\n",
       "      <td>0.06</td>\n",
       "      <td>0.0</td>\n",
       "    </tr>\n",
       "    <tr>\n",
       "      <th>2</th>\n",
       "      <td>1</td>\n",
       "      <td>0.18</td>\n",
       "      <td>0.82</td>\n",
       "      <td>1.0</td>\n",
       "    </tr>\n",
       "    <tr>\n",
       "      <th>3</th>\n",
       "      <td>1</td>\n",
       "      <td>0.21</td>\n",
       "      <td>0.79</td>\n",
       "      <td>0.0</td>\n",
       "    </tr>\n",
       "    <tr>\n",
       "      <th>4</th>\n",
       "      <td>0</td>\n",
       "      <td>0.99</td>\n",
       "      <td>0.01</td>\n",
       "      <td>1.0</td>\n",
       "    </tr>\n",
       "  </tbody>\n",
       "</table>\n",
       "</div>"
      ],
      "text/plain": [
       "   class_predicted  prob_0  prob_1  True\n",
       "0                0    0.97    0.03   0.0\n",
       "1                0    0.94    0.06   0.0\n",
       "2                1    0.18    0.82   1.0\n",
       "3                1    0.21    0.79   0.0\n",
       "4                0    0.99    0.01   1.0"
      ]
     },
     "execution_count": 44,
     "metadata": {},
     "output_type": "execute_result"
    }
   ],
   "source": [
    "rfdf.head()"
   ]
  },
  {
   "cell_type": "code",
   "execution_count": 39,
   "id": "2d121263-9c36-4a2c-ac53-933844629eea",
   "metadata": {},
   "outputs": [
    {
     "data": {
      "image/png": "[encoded data removed]",
      "text/plain": [
       "<Figure size 640x480 with 1 Axes>"
      ]
     },
     "metadata": {},
     "output_type": "display_data"
    },
    {
     "data": {
      "text/plain": [
       "<ggplot: (8768453196623)>"
      ]
     },
     "execution_count": 39,
     "metadata": {},
     "output_type": "execute_result"
    }
   ],
   "source": [
    "(ggplot(rfdf, aes(x='prob_0', y='prob_1', color='factor(class_predicted)'))+\n",
    "geom_point()+\n",
    "geom_hline(yintercept=0.5, linetype='dashed')+\n",
    " geom_vline(xintercept=0.5, linetype='dashed')+\n",
    " theme_bw()\n",
    ")"
   ]
  },
  {
   "cell_type": "markdown",
   "id": "af89dba5-c8df-40e8-8634-3242b3e17dda",
   "metadata": {},
   "source": [
    "As you might notice, there seems to be a split at 0.5. \n",
    "\n",
    "A lot of classification models decide on a class at that threshold. If the probability of a class is above 0.5 then that is the class that is assigned. \n",
    "\n",
    "Let's build a classification report for this, but let's do it from the dataframe we used to make the plot. We might want to add a column that has the true churn codes"
   ]
  },
  {
   "cell_type": "code",
   "execution_count": 40,
   "id": "cf2a13a2-b042-4092-af4d-16455b1c76ac",
   "metadata": {},
   "outputs": [],
   "source": [
    "rfdf['True']=train['Churn_code']"
   ]
  },
  {
   "cell_type": "code",
   "execution_count": 41,
   "id": "63286000-c61d-41fa-b750-f3c172314efa",
   "metadata": {},
   "outputs": [],
   "source": [
    "rfdf.dropna(inplace=True)"
   ]
  },
  {
   "cell_type": "code",
   "execution_count": 42,
   "id": "c59166df-2925-4c9f-abc4-2f7519c05260",
   "metadata": {},
   "outputs": [
    {
     "name": "stdout",
     "output_type": "stream",
     "text": [
      "              precision    recall  f1-score   support\n",
      "\n",
      "           0       0.74      0.74      0.74      3314\n",
      "           1       0.27      0.27      0.27      1193\n",
      "\n",
      "    accuracy                           0.62      4507\n",
      "   macro avg       0.51      0.51      0.51      4507\n",
      "weighted avg       0.62      0.62      0.62      4507\n",
      "\n"
     ]
    }
   ],
   "source": [
    "print(classification_report(y_pred=rfdf['class_predicted'], y_true=rfdf['True'].astype(int)))"
   ]
  },
  {
   "cell_type": "code",
   "execution_count": 54,
   "id": "6576606f-c823-4450-9efd-2b5af764d403",
   "metadata": {},
   "outputs": [],
   "source": [
    "#Let's lower the threshold for predicting 1 to 0.25\n",
    "\n",
    "rfdf['pred1_25']=np.where(rfdf['prob_1']>0.25, 1,0)"
   ]
  },
  {
   "cell_type": "code",
   "execution_count": 55,
   "id": "8397ba38-0ed4-4d72-9974-fdebf5b71fad",
   "metadata": {},
   "outputs": [
    {
     "data": {
      "text/html": [
       "<div>\n",
       "<style scoped>\n",
       "    .dataframe tbody tr th:only-of-type {\n",
       "        vertical-align: middle;\n",
       "    }\n",
       "\n",
       "    .dataframe tbody tr th {\n",
       "        vertical-align: top;\n",
       "    }\n",
       "\n",
       "    .dataframe thead th {\n",
       "        text-align: right;\n",
       "    }\n",
       "</style>\n",
       "<table border=\"1\" class=\"dataframe\">\n",
       "  <thead>\n",
       "    <tr style=\"text-align: right;\">\n",
       "      <th></th>\n",
       "      <th>class_predicted</th>\n",
       "      <th>prob_0</th>\n",
       "      <th>prob_1</th>\n",
       "      <th>True</th>\n",
       "      <th>pred1_40</th>\n",
       "      <th>pred1_25</th>\n",
       "    </tr>\n",
       "  </thead>\n",
       "  <tbody>\n",
       "    <tr>\n",
       "      <th>0</th>\n",
       "      <td>0</td>\n",
       "      <td>0.97</td>\n",
       "      <td>0.03</td>\n",
       "      <td>0.0</td>\n",
       "      <td>0</td>\n",
       "      <td>0</td>\n",
       "    </tr>\n",
       "    <tr>\n",
       "      <th>1</th>\n",
       "      <td>0</td>\n",
       "      <td>0.94</td>\n",
       "      <td>0.06</td>\n",
       "      <td>0.0</td>\n",
       "      <td>0</td>\n",
       "      <td>0</td>\n",
       "    </tr>\n",
       "    <tr>\n",
       "      <th>2</th>\n",
       "      <td>1</td>\n",
       "      <td>0.18</td>\n",
       "      <td>0.82</td>\n",
       "      <td>1.0</td>\n",
       "      <td>1</td>\n",
       "      <td>1</td>\n",
       "    </tr>\n",
       "    <tr>\n",
       "      <th>3</th>\n",
       "      <td>1</td>\n",
       "      <td>0.21</td>\n",
       "      <td>0.79</td>\n",
       "      <td>0.0</td>\n",
       "      <td>1</td>\n",
       "      <td>1</td>\n",
       "    </tr>\n",
       "    <tr>\n",
       "      <th>4</th>\n",
       "      <td>0</td>\n",
       "      <td>0.99</td>\n",
       "      <td>0.01</td>\n",
       "      <td>1.0</td>\n",
       "      <td>0</td>\n",
       "      <td>0</td>\n",
       "    </tr>\n",
       "  </tbody>\n",
       "</table>\n",
       "</div>"
      ],
      "text/plain": [
       "   class_predicted  prob_0  prob_1  True  pred1_40  pred1_25\n",
       "0                0    0.97    0.03   0.0         0         0\n",
       "1                0    0.94    0.06   0.0         0         0\n",
       "2                1    0.18    0.82   1.0         1         1\n",
       "3                1    0.21    0.79   0.0         1         1\n",
       "4                0    0.99    0.01   1.0         0         0"
      ]
     },
     "execution_count": 55,
     "metadata": {},
     "output_type": "execute_result"
    }
   ],
   "source": [
    "rfdf.head()"
   ]
  },
  {
   "cell_type": "code",
   "execution_count": 56,
   "id": "d81e0a13-dd2f-463e-959d-55e99af58a9d",
   "metadata": {},
   "outputs": [
    {
     "name": "stdout",
     "output_type": "stream",
     "text": [
      "              precision    recall  f1-score   support\n",
      "\n",
      "           0       0.74      0.71      0.72      3314\n",
      "           1       0.27      0.30      0.29      1193\n",
      "\n",
      "    accuracy                           0.60      4507\n",
      "   macro avg       0.50      0.50      0.50      4507\n",
      "weighted avg       0.61      0.60      0.61      4507\n",
      "\n"
     ]
    }
   ],
   "source": [
    "print(classification_report(y_pred=rfdf['pred1_25'], y_true=rfdf['True'].astype(int)))"
   ]
  },
  {
   "cell_type": "markdown",
   "id": "70509ae8-2e16-4567-b655-86016ace8f9a",
   "metadata": {},
   "source": [
    "Recall has improved!\n",
    "\n",
    "Let's now plot this"
   ]
  },
  {
   "cell_type": "code",
   "execution_count": 58,
   "id": "d516c5fb-ac49-47fd-baf2-6105a3b56cc3",
   "metadata": {},
   "outputs": [
    {
     "data": {
      "image/png": "[encoded data removed]",
      "text/plain": [
       "<Figure size 640x480 with 1 Axes>"
      ]
     },
     "metadata": {},
     "output_type": "display_data"
    },
    {
     "data": {
      "text/plain": [
       "<ggplot: (8768508682897)>"
      ]
     },
     "execution_count": 58,
     "metadata": {},
     "output_type": "execute_result"
    }
   ],
   "source": [
    "(ggplot(rfdf, aes(x='prob_0', y='prob_1', color='factor(pred1_25)'))+\n",
    "geom_point()+\n",
    "geom_hline(yintercept=0.25, linetype='dashed')+\n",
    " geom_vline(xintercept=0.75, linetype='dashed')+\n",
    " theme_bw()\n",
    ")"
   ]
  },
  {
   "cell_type": "markdown",
   "id": "9924221b-cc2a-4c19-867d-848dbc796238",
   "metadata": {},
   "source": [
    "Operating with these thresholds will get us to define the receiving operator curve. (ROC curve) in the next class!"
   ]
  },
  {
   "cell_type": "code",
   "execution_count": null,
   "id": "91ad253f-ee52-474c-810b-6a3fc322fdee",
   "metadata": {},
   "outputs": [],
   "source": []
  }
 ],
 "metadata": {
  "kernelspec": {
   "display_name": "Python 3",
   "language": "python",
   "name": "python3"
  },
  "language_info": {
   "codemirror_mode": {
    "name": "ipython",
    "version": 3
   },
   "file_extension": ".py",
   "mimetype": "text/x-python",
   "name": "python",
   "nbconvert_exporter": "python",
   "pygments_lexer": "ipython3",
   "version": "3.8.8"
  }
 },
 "nbformat": 4,
 "nbformat_minor": 5
}
