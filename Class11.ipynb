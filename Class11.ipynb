{
 "cells": [
  {
   "cell_type": "markdown",
   "id": "18a7aacd-38ca-44a6-b2e9-1cdb6c544ed1",
   "metadata": {},
   "source": [
    "# K- nearest neighbors"
   ]
  },
  {
   "cell_type": "code",
   "execution_count": null,
   "id": "0a983e4c-bc96-42c8-9d96-b07e547d15e4",
   "metadata": {},
   "outputs": [],
   "source": [
    "import pandas as pd\n",
    "import numpy as np\n",
    "from plotnine import *\n",
    "%matplotlib inline\n",
    "from sklearn.neighbors import KNeighborsRegressor as knn"
   ]
  },
  {
   "cell_type": "code",
   "execution_count": null,
   "id": "7874585a-c338-47ae-9a5f-ca198b55cdcd",
   "metadata": {},
   "outputs": [],
   "source": [
    "#Let's load the election dataframe\n",
    "\n",
    "url = 'https://raw.githubusercontent.com/mwaugh0328/Data_Bootcamp_Fall_2017/master/data_bootcamp_1127/trump_data.csv'\n",
    "df = pd.read_csv(url,encoding='latin-1',index_col=0)\n",
    "df = df.dropna(subset=['income'])"
   ]
  },
  {
   "cell_type": "code",
   "execution_count": null,
   "id": "0af095e1-fc44-42f4-8dfb-490e1b05509d",
   "metadata": {},
   "outputs": [],
   "source": [
    "#Let's make the log population\n",
    "\n",
    "\n",
    "df['lnpop']=np.log(df['population'])"
   ]
  },
  {
   "cell_type": "markdown",
   "id": "613df1fb-82a4-4a9c-a88f-d65a134f881b",
   "metadata": {},
   "source": [
    "What K-NN does is find the K closest neighbors in terms of $X$ for a given row and take the average of the respecrive values of $y$ to establish its prediction.\n",
    "\n",
    "By closest we mean those with the smallest euclidian distance (square difference). \n",
    "\n"
   ]
  },
  {
   "cell_type": "code",
   "execution_count": null,
   "id": "6a0b862f-b76b-4c2f-810a-23921aeb80d8",
   "metadata": {},
   "outputs": [],
   "source": [
    "sklearn_knn = knn(n_neighbors=150).fit(X=df[['lnpop']],\n",
    "                                       y=df['trump_share'])\n"
   ]
  },
  {
   "cell_type": "code",
   "execution_count": null,
   "id": "39a1b9c8-141d-4c2e-8910-8f181b0b9068",
   "metadata": {},
   "outputs": [],
   "source": [
    "#score (R squared equivalent)\n",
    "sklearn_knn.score(X=df[['lnpop']],\n",
    "                  y=df['trump_share'])"
   ]
  },
  {
   "cell_type": "code",
   "execution_count": null,
   "id": "6b04ed16-1866-44ec-b33e-12eb00d4219a",
   "metadata": {},
   "outputs": [],
   "source": [
    "df['pred_knn'] = sklearn_knn.predict(df[['lnpop']])\n"
   ]
  },
  {
   "cell_type": "code",
   "execution_count": null,
   "id": "8ea870f7-e24a-4d64-9361-f36c8c98ebdb",
   "metadata": {},
   "outputs": [],
   "source": [
    "#plot\n",
    "(ggplot(df, aes(x='lnpop', y='trump_share'))+\n",
    "       geom_point(color='steelblue')+\n",
    " geom_line(aes(x='lnpop', y='pred_knn'), color='darkorange' )+\n",
    " theme_bw()\n",
    "       )\n"
   ]
  },
  {
   "cell_type": "code",
   "execution_count": null,
   "id": "82fbd908-398d-41f7-87dd-9e4b7a5927b8",
   "metadata": {},
   "outputs": [],
   "source": [
    "(ggplot(df, aes(x='population', y='trump_share'))+\n",
    "       geom_point(color='steelblue')+\n",
    " geom_line(aes(x='population', y='pred_knn'), color='darkorange' )+\n",
    " theme_bw()\n",
    "       )"
   ]
  },
  {
   "cell_type": "code",
   "execution_count": null,
   "id": "622a0bf7-6aba-43ba-be07-3b95e02c8f5a",
   "metadata": {},
   "outputs": [],
   "source": [
    "sklearn_knn.predict([[np.log(10010)]])"
   ]
  },
  {
   "cell_type": "code",
   "execution_count": null,
   "id": "1f70c4fb-6c91-4ce8-a694-1676bb3e04c8",
   "metadata": {},
   "outputs": [],
   "source": [
    "sklearn_knn.predict([[np.log(10020)]])"
   ]
  },
  {
   "cell_type": "code",
   "execution_count": null,
   "id": "f791f213-dd6e-452b-b498-a6743f790912",
   "metadata": {},
   "outputs": [],
   "source": [
    "#we can change the number of neighbors\n",
    "\n",
    "sklearn_knn2 = knn(n_neighbors=80).fit(X=df[['lnpop']],\n",
    "                                       y=df['trump_share'])\n"
   ]
  },
  {
   "cell_type": "code",
   "execution_count": null,
   "id": "e90c8c04-e0da-401e-8f56-378f2aa0e46f",
   "metadata": {},
   "outputs": [],
   "source": [
    "sklearn_knn2.score(X=df[['lnpop']],\n",
    "                   y=df['trump_share'])"
   ]
  },
  {
   "cell_type": "code",
   "execution_count": null,
   "id": "b039121f-1505-4c0a-a941-1b6b7d5174bd",
   "metadata": {},
   "outputs": [],
   "source": [
    "df['pred_knn2'] = sklearn_knn2.predict(df[['lnpop']])\n"
   ]
  },
  {
   "cell_type": "code",
   "execution_count": null,
   "id": "62f688d0-c0d8-4f55-bd37-9ca6f3812ada",
   "metadata": {},
   "outputs": [],
   "source": [
    "#plot\n",
    "(ggplot(df, aes(x='lnpop', y='trump_share'))+\n",
    "       geom_point(color='steelblue')+\n",
    " geom_line(aes(x='lnpop', y='pred_knn2'), color='darkorange' )+\n",
    " theme_bw()\n",
    "       )"
   ]
  },
  {
   "cell_type": "markdown",
   "id": "61d17eb9-2bff-471a-83fc-1f706fe434ab",
   "metadata": {},
   "source": [
    "## Overfitting\n",
    "![Overfitting](data:image/jpeg;base64,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)\n",
    "\n",
    "Something really odd is happening, our score increased when we reduced the number of neighbors, but the prediction line seems shakier. This does not seem all that encouraging. It could mean that the model is taking noise in, such that even if it fits the points we have given it a bit too well. But that means, that if we feed it new data it has never seen, our result is likely to be poor!\n",
    "\n",
    "\n",
    "We will address this later! But for now let's try some other interesting methods"
   ]
  },
  {
   "cell_type": "markdown",
   "id": "4f21486c-1ebf-422d-bfe3-4203746ca0a5",
   "metadata": {},
   "source": [
    "## Decision trees\n",
    "\n",
    "Decision trees are interesting because they use the values in the variable $X$ to find the one in the training data that gives the closest values possible based on what is seen.\n",
    "\n",
    "It does so by making tree separations in a yes/no fashion. Consider the plot below as an example:\n",
    "\n",
    "![Tree](https://gdcoder.com/content/images/2019/05/Screen-Shot-2019-05-17-at-00.09.26.png)"
   ]
  },
  {
   "cell_type": "code",
   "execution_count": null,
   "id": "e3f5fefc-ff11-4e29-a10e-7a737989693e",
   "metadata": {},
   "outputs": [],
   "source": [
    "from sklearn.tree import DecisionTreeRegressor"
   ]
  },
  {
   "cell_type": "code",
   "execution_count": null,
   "id": "33e21bba-77f6-4fc8-8697-9d0fb0b4f06e",
   "metadata": {},
   "outputs": [],
   "source": [
    "DTR=DecisionTreeRegressor().fit(X=df[['lnpop']],\n",
    "                              y=df['trump_share'])"
   ]
  },
  {
   "cell_type": "code",
   "execution_count": null,
   "id": "9b925352-c510-4677-864e-3df070ae0b94",
   "metadata": {},
   "outputs": [],
   "source": [
    "DTR.score(X=df[['lnpop']],\n",
    "                y=df['trump_share'])"
   ]
  },
  {
   "cell_type": "code",
   "execution_count": null,
   "id": "03773a8b-6d54-42cf-97e4-7d4163582479",
   "metadata": {},
   "outputs": [],
   "source": [
    "df['pred_DTR']=DTR.predict(X=df[['lnpop']])"
   ]
  },
  {
   "cell_type": "code",
   "execution_count": null,
   "id": "57cb7c22-6034-4d70-a0c0-a097d98ae7b4",
   "metadata": {},
   "outputs": [],
   "source": [
    "#plot\n",
    "(ggplot(df, aes(x='lnpop', y='trump_share'))+\n",
    "       geom_point(color='steelblue')+\n",
    " geom_line(aes(x='lnpop', y='pred_DTR'), color='darkorange' )+\n",
    " theme_bw()\n",
    "       )"
   ]
  },
  {
   "cell_type": "markdown",
   "id": "e5d15830-faf0-46b4-9bb8-2cada44e5d44",
   "metadata": {},
   "source": [
    "We are **definitely** overfitting"
   ]
  },
  {
   "cell_type": "markdown",
   "id": "594c9560-3375-4b31-ac60-5b9afef4fade",
   "metadata": {},
   "source": [
    "## Can multiple decision trees averaged out do better? Random Forests!\n",
    "\n",
    "Random forests run several decision trees by taking random subsets of rows of our data, running decision trees on them and then averaging the predictions!\n"
   ]
  },
  {
   "cell_type": "code",
   "execution_count": null,
   "id": "b1b2790e-b3ca-41e1-953a-f4979b0d3104",
   "metadata": {},
   "outputs": [],
   "source": [
    "from sklearn.ensemble import RandomForestRegressor as rf"
   ]
  },
  {
   "cell_type": "code",
   "execution_count": null,
   "id": "306f1266-f1df-4555-b0d6-6382a7e822ec",
   "metadata": {},
   "outputs": [],
   "source": [
    "sklearn_rf = rf(n_estimators=100,\n",
    "                max_depth=3).fit(df[['lnpop']],\n",
    "                                 df['trump_share'])\n"
   ]
  },
  {
   "cell_type": "code",
   "execution_count": null,
   "id": "634dae42-d6da-435a-9c1e-d76cece38dbd",
   "metadata": {},
   "outputs": [],
   "source": [
    "sklearn_rf.score(df[['lnpop']],\n",
    "                 df['trump_share'])"
   ]
  },
  {
   "cell_type": "code",
   "execution_count": null,
   "id": "e8d31a09-ec34-4b31-8cb2-f931fbd417ee",
   "metadata": {},
   "outputs": [],
   "source": [
    "df['pred_rf'] = sklearn_rf.predict(df[['lnpop']])\n"
   ]
  },
  {
   "cell_type": "code",
   "execution_count": null,
   "id": "30ffdca5-3c46-4994-9520-d849f84d06ce",
   "metadata": {},
   "outputs": [],
   "source": [
    "#plot\n",
    "(ggplot(df, aes(x='lnpop', y='trump_share'))+\n",
    "       geom_point(color='steelblue')+\n",
    " geom_line(aes(x='lnpop', y='pred_rf'), color='darkorange' )+\n",
    " theme_bw()\n",
    "       )"
   ]
  },
  {
   "cell_type": "code",
   "execution_count": null,
   "id": "291450ec-5048-4962-8dc1-b25bb451f916",
   "metadata": {},
   "outputs": [],
   "source": []
  }
 ],
 "metadata": {
  "kernelspec": {
   "display_name": "Python 3",
   "language": "python",
   "name": "python3"
  },
  "language_info": {
   "codemirror_mode": {
    "name": "ipython",
    "version": 3
   },
   "file_extension": ".py",
   "mimetype": "text/x-python",
   "name": "python",
   "nbconvert_exporter": "python",
   "pygments_lexer": "ipython3",
   "version": "3.8.8"
  }
 },
 "nbformat": 4,
 "nbformat_minor": 5
}
