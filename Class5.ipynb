{
 "cells": [
  {
   "cell_type": "markdown",
   "id": "39e106d9-76ab-4b8d-9e20-cb66987e6d29",
   "metadata": {},
   "source": [
    "# More pandas!"
   ]
  },
  {
   "cell_type": "code",
   "execution_count": 1,
   "id": "b9fa332e-654c-421b-bc4b-19b72c6977b6",
   "metadata": {},
   "outputs": [],
   "source": [
    "import os\n",
    "import pandas as pd\n",
    "import io\n",
    "import numpy as np\n"
   ]
  },
  {
   "cell_type": "markdown",
   "id": "765a3e43-6b62-4179-88e5-1624d10d640f",
   "metadata": {},
   "source": [
    "## Reading data from URLs"
   ]
  },
  {
   "cell_type": "code",
   "execution_count": 2,
   "id": "dec40aab-1c95-4a65-9293-d99f5a0bdb4c",
   "metadata": {},
   "outputs": [],
   "source": [
    "url1 = \"https://raw.githubusercontent.com/nyusterndatabootcamp\"\n",
    "\n",
    "url2 = \"/data_resources/master/test.csv\"\n",
    "\n",
    "url  = url1 + url2        \n",
    "\n",
    "df = pd.read_csv(url)  "
   ]
  },
  {
   "cell_type": "code",
   "execution_count": 3,
   "id": "d8578277-7957-4561-8b91-2e9384a3daca",
   "metadata": {},
   "outputs": [
    {
     "data": {
      "text/plain": [
       "'https://raw.githubusercontent.com/nyusterndatabootcamp/data_resources/master/test.csv'"
      ]
     },
     "execution_count": 3,
     "metadata": {},
     "output_type": "execute_result"
    }
   ],
   "source": [
    "url"
   ]
  },
  {
   "cell_type": "code",
   "execution_count": 4,
   "id": "6f372f33-7e39-4a92-9830-6010ea6fa0fc",
   "metadata": {},
   "outputs": [
    {
     "data": {
      "text/html": [
       "<div>\n",
       "<style scoped>\n",
       "    .dataframe tbody tr th:only-of-type {\n",
       "        vertical-align: middle;\n",
       "    }\n",
       "\n",
       "    .dataframe tbody tr th {\n",
       "        vertical-align: top;\n",
       "    }\n",
       "\n",
       "    .dataframe thead th {\n",
       "        text-align: right;\n",
       "    }\n",
       "</style>\n",
       "<table border=\"1\" class=\"dataframe\">\n",
       "  <thead>\n",
       "    <tr style=\"text-align: right;\">\n",
       "      <th></th>\n",
       "      <th>name</th>\n",
       "      <th>x1</th>\n",
       "      <th>x2</th>\n",
       "      <th>x3</th>\n",
       "    </tr>\n",
       "  </thead>\n",
       "  <tbody>\n",
       "    <tr>\n",
       "      <th>0</th>\n",
       "      <td>Dave</td>\n",
       "      <td>1</td>\n",
       "      <td>2</td>\n",
       "      <td>3.5</td>\n",
       "    </tr>\n",
       "    <tr>\n",
       "      <th>1</th>\n",
       "      <td>Chase</td>\n",
       "      <td>4</td>\n",
       "      <td>3</td>\n",
       "      <td>4.3</td>\n",
       "    </tr>\n",
       "    <tr>\n",
       "      <th>2</th>\n",
       "      <td>Spencer</td>\n",
       "      <td>5</td>\n",
       "      <td>6</td>\n",
       "      <td>7.8</td>\n",
       "    </tr>\n",
       "  </tbody>\n",
       "</table>\n",
       "</div>"
      ],
      "text/plain": [
       "      name  x1  x2   x3\n",
       "0     Dave   1   2  3.5\n",
       "1    Chase   4   3  4.3\n",
       "2  Spencer   5   6  7.8"
      ]
     },
     "execution_count": 4,
     "metadata": {},
     "output_type": "execute_result"
    }
   ],
   "source": [
    "df"
   ]
  },
  {
   "cell_type": "code",
   "execution_count": 5,
   "id": "f4dacfd6-91d9-4975-b29a-eb9326bb300e",
   "metadata": {},
   "outputs": [
    {
     "data": {
      "text/html": [
       "<div>\n",
       "<style scoped>\n",
       "    .dataframe tbody tr th:only-of-type {\n",
       "        vertical-align: middle;\n",
       "    }\n",
       "\n",
       "    .dataframe tbody tr th {\n",
       "        vertical-align: top;\n",
       "    }\n",
       "\n",
       "    .dataframe thead th {\n",
       "        text-align: right;\n",
       "    }\n",
       "</style>\n",
       "<table border=\"1\" class=\"dataframe\">\n",
       "  <thead>\n",
       "    <tr style=\"text-align: right;\">\n",
       "      <th></th>\n",
       "      <th>name</th>\n",
       "      <th>x1</th>\n",
       "      <th>x2</th>\n",
       "      <th>x3</th>\n",
       "    </tr>\n",
       "  </thead>\n",
       "  <tbody>\n",
       "    <tr>\n",
       "      <th>0</th>\n",
       "      <td>Dave</td>\n",
       "      <td>1</td>\n",
       "      <td>2</td>\n",
       "      <td>3.5</td>\n",
       "    </tr>\n",
       "    <tr>\n",
       "      <th>1</th>\n",
       "      <td>Chase</td>\n",
       "      <td>4</td>\n",
       "      <td>3</td>\n",
       "      <td>4.3</td>\n",
       "    </tr>\n",
       "  </tbody>\n",
       "</table>\n",
       "</div>"
      ],
      "text/plain": [
       "    name  x1  x2   x3\n",
       "0   Dave   1   2  3.5\n",
       "1  Chase   4   3  4.3"
      ]
     },
     "execution_count": 5,
     "metadata": {},
     "output_type": "execute_result"
    }
   ],
   "source": [
    "df_only2 = pd.read_csv(url, nrows = 2)\n",
    "\n",
    "df_only2"
   ]
  },
  {
   "cell_type": "code",
   "execution_count": null,
   "id": "ed14d432-5e8c-474e-8caa-68235c557a3b",
   "metadata": {},
   "outputs": [],
   "source": [
    "df_notone = pd.read_csv(url, na_values = 1)\n",
    "\n",
    "df_notone"
   ]
  },
  {
   "cell_type": "code",
   "execution_count": null,
   "id": "79a623d1-465a-45e0-937c-8a8c8f0ba802",
   "metadata": {},
   "outputs": [],
   "source": [
    "url3 = \"/data_resources/master/test.xls\"\n",
    "url = url1 + url3\n",
    "\n",
    "df_excel = pd.read_excel(url, na_values = 1) # Simmilar funcitonality!\n",
    "\n",
    "df_excel"
   ]
  },
  {
   "cell_type": "markdown",
   "id": "ae629579-a48e-4e2d-89b6-c4fa464c3730",
   "metadata": {},
   "source": [
    "## What about Google sheets?"
   ]
  },
  {
   "cell_type": "code",
   "execution_count": null,
   "id": "bebf36c6-2f3d-4b92-84b8-2175820ebfe2",
   "metadata": {},
   "outputs": [],
   "source": [
    "import gspread as gs"
   ]
  },
  {
   "cell_type": "code",
   "execution_count": null,
   "id": "6bfed143-a851-4407-8c0b-d09d2411d4cd",
   "metadata": {},
   "outputs": [],
   "source": [
    "# You will need to generate a project, a credential that is a key (saved to your computer)\n",
    "# Once you create the key, you need to go IAM and admin go to service accounts\n",
    "# Share your spreadsheet with the e-mail address there"
   ]
  },
  {
   "cell_type": "code",
   "execution_count": null,
   "id": "fa596141-8ff0-4708-a40f-1296adc83d74",
   "metadata": {},
   "outputs": [],
   "source": [
    "gc = gs.service_account(filename='my-project-for-class-326120-d3300c932c44.json')\n"
   ]
  },
  {
   "cell_type": "code",
   "execution_count": null,
   "id": "2276554a-788c-4eea-a0d0-be1d928c685d",
   "metadata": {},
   "outputs": [],
   "source": [
    "sh = gc.open_by_url('https://docs.google.com/spreadsheets/d/1Rj3q1uezUg0tbKkmaczk86vgFhSoa17j3rmXzaLXTyI/edit?usp=sharing')\n"
   ]
  },
  {
   "cell_type": "code",
   "execution_count": null,
   "id": "56390f49-e041-40f9-95c2-01dca4ba3123",
   "metadata": {},
   "outputs": [],
   "source": [
    "sh"
   ]
  },
  {
   "cell_type": "code",
   "execution_count": null,
   "id": "09bab62d-97dc-4144-96e1-57ec98099c9e",
   "metadata": {},
   "outputs": [],
   "source": [
    "ws = sh.worksheet('Bakery')\n"
   ]
  },
  {
   "cell_type": "code",
   "execution_count": null,
   "id": "852f02d0-84da-4499-916e-529fbfa96c60",
   "metadata": {},
   "outputs": [],
   "source": [
    "ws"
   ]
  },
  {
   "cell_type": "code",
   "execution_count": null,
   "id": "463bf178-33eb-493b-865c-48ce03a28c10",
   "metadata": {},
   "outputs": [],
   "source": [
    "df_gs = pd.DataFrame(ws.get_all_records())\n",
    "df_gs.head()"
   ]
  },
  {
   "cell_type": "markdown",
   "id": "ffa239f7-550b-46f0-ae7c-5d69f8546a64",
   "metadata": {},
   "source": [
    "## Reading from your computer"
   ]
  },
  {
   "cell_type": "code",
   "execution_count": null,
   "id": "f729c2c2-4ec9-4f85-8e02-c9999b78d7e5",
   "metadata": {},
   "outputs": [],
   "source": [
    "my_path = os.getcwd()\n",
    "my_path"
   ]
  },
  {
   "cell_type": "code",
   "execution_count": null,
   "id": "4c075820-1bbb-4dd9-a97e-157dc2583ccd",
   "metadata": {},
   "outputs": [],
   "source": [
    "df.to_csv(my_path + '/'+'df1.csv')\n",
    "\n",
    "df.to_excel(my_path + '/'+'df1.xlsx')\n",
    "\n"
   ]
  },
  {
   "cell_type": "code",
   "execution_count": null,
   "id": "4a88ad55-a7f1-4492-a156-93bd2500af22",
   "metadata": {},
   "outputs": [],
   "source": [
    "df_new = pd.read_excel(\"df1.xlsx\")"
   ]
  },
  {
   "cell_type": "code",
   "execution_count": null,
   "id": "daed7d50-9c06-4988-8c74-e9fbb062754a",
   "metadata": {},
   "outputs": [],
   "source": [
    "df_new"
   ]
  },
  {
   "cell_type": "code",
   "execution_count": null,
   "id": "83639a0a-ef62-41c8-a66d-98b0d466a7da",
   "metadata": {},
   "outputs": [],
   "source": [
    "df_new = pd.read_excel(my_path + \"/\" + \"df1.xlsx\")\n"
   ]
  },
  {
   "cell_type": "code",
   "execution_count": null,
   "id": "6e50b970-816e-4533-a613-6e3345abaac4",
   "metadata": {},
   "outputs": [],
   "source": [
    "df_new"
   ]
  },
  {
   "cell_type": "markdown",
   "id": "0f5e66e2-b11a-45eb-b957-95fd4cf24326",
   "metadata": {},
   "source": [
    "## Let's work with some actual data now (Chipotle)\n",
    "\n",
    "![Hero we don't deserve](https://pics.me.me/chipotle-why-is-guac-extra-people-over-27248804.png)"
   ]
  },
  {
   "cell_type": "code",
   "execution_count": null,
   "id": "7d691c67-7f4d-4977-af31-33a1fcf84195",
   "metadata": {},
   "outputs": [],
   "source": [
    "chipurl=url = 'https://raw.githubusercontent.com/TheUpshot/chipotle/master/orders.tsv'\n",
    "\n",
    "df_chipotle=pd.read_csv(chipurl, sep='\\t')"
   ]
  },
  {
   "cell_type": "code",
   "execution_count": null,
   "id": "0bce662a-f286-4d79-8649-c3d7b35dfe24",
   "metadata": {},
   "outputs": [],
   "source": [
    "df_chipotle"
   ]
  },
  {
   "cell_type": "code",
   "execution_count": null,
   "id": "be62b080-a791-4f99-b5b6-d0d3478b29cf",
   "metadata": {},
   "outputs": [],
   "source": [
    "df_chipotle.describe()"
   ]
  },
  {
   "cell_type": "code",
   "execution_count": null,
   "id": "5d48903b-ee18-4e75-905c-1a40b7669247",
   "metadata": {},
   "outputs": [],
   "source": [
    "df_chipotle.dtypes"
   ]
  },
  {
   "cell_type": "code",
   "execution_count": null,
   "id": "4dbef78c-d29d-475e-8527-b93ba917c8d5",
   "metadata": {},
   "outputs": [],
   "source": [
    "#See head and tail\n",
    "\n",
    "df_chipotle.head(5)"
   ]
  },
  {
   "cell_type": "code",
   "execution_count": null,
   "id": "9a373d7c-80d8-4789-8210-c48975eea4ca",
   "metadata": {},
   "outputs": [],
   "source": [
    "df_chipotle.tail(6)"
   ]
  },
  {
   "cell_type": "code",
   "execution_count": null,
   "id": "67baab4f-4425-485e-9080-73800c3d1d33",
   "metadata": {},
   "outputs": [],
   "source": [
    "df_chipotle.item_price[0]"
   ]
  },
  {
   "cell_type": "code",
   "execution_count": null,
   "id": "17728bb5-f1fc-457a-946f-42cfebf96c66",
   "metadata": {},
   "outputs": [],
   "source": [
    "#HOW DO WE SOLVE THIS SO WE CAN DEAL WITH DOLLARS AS A FLOAT?\n",
    "\n"
   ]
  },
  {
   "cell_type": "code",
   "execution_count": null,
   "id": "79f40f05-353d-4558-a8a4-32241c0d22cf",
   "metadata": {},
   "outputs": [],
   "source": [
    "float(df_chipotle.item_price[0].replace(\"$\",\"\").replace(\" \",\"\"))"
   ]
  },
  {
   "cell_type": "code",
   "execution_count": null,
   "id": "2cac10f5-ed4a-411b-bda2-7e4881f21944",
   "metadata": {},
   "outputs": [],
   "source": [
    "float(df_chipotle.item_price.replace(\"$\",\"\").replace(\" \",\"\"))"
   ]
  },
  {
   "cell_type": "code",
   "execution_count": null,
   "id": "f739729e-2d3e-4f23-a85c-0a7135f28408",
   "metadata": {},
   "outputs": [],
   "source": [
    "df_chipotle.item_price.replace(\"$\",\"\").replace(\" \",\"\")"
   ]
  },
  {
   "cell_type": "code",
   "execution_count": null,
   "id": "b79f4a76-c0d8-492f-96ca-28c62ddb5d16",
   "metadata": {},
   "outputs": [],
   "source": [
    "len(df_chipotle.item_price)"
   ]
  },
  {
   "cell_type": "code",
   "execution_count": null,
   "id": "cfd42fb0-e71f-44e4-914f-a49dde5e0953",
   "metadata": {},
   "outputs": [],
   "source": [
    "#Try making it with a list\n",
    "floatpricelist=[float(df_chipotle.item_price[i].replace(\"$\",\"\").replace(\" \",\"\"))\n",
    " for i in range(0, len(df_chipotle['item_price']))]"
   ]
  },
  {
   "cell_type": "code",
   "execution_count": null,
   "id": "c3d4970c-e5db-4db8-8a53-ec6ff04f2d4e",
   "metadata": {},
   "outputs": [],
   "source": [
    "# We can just add them as a column\n",
    "\n",
    "df_chipotle['floatprice']=floatpricelist\n",
    "df_chipotle.head()"
   ]
  },
  {
   "cell_type": "code",
   "execution_count": null,
   "id": "322900e7-9c49-4b2a-a107-a8adc929132f",
   "metadata": {},
   "outputs": [],
   "source": [
    "#Let's drop it\n",
    "\n",
    "df_chipotle.drop(columns=['floatprice'], inplace=True)\n",
    "df_chipotle.head()"
   ]
  },
  {
   "cell_type": "code",
   "execution_count": null,
   "id": "3d02297c-8024-4cb2-b6f4-c91381a6d03e",
   "metadata": {},
   "outputs": [],
   "source": [
    "# This all feels too convoluted... what about writing a function?\n",
    "\n",
    "def dollartofloat(x):\n",
    "    flprice=float(x.replace(\"$\",\"\").replace(\" \",\"\"))\n",
    "    return flprice"
   ]
  },
  {
   "cell_type": "code",
   "execution_count": null,
   "id": "b946afe2-b355-4c17-a892-9bba8cfcfdfa",
   "metadata": {},
   "outputs": [],
   "source": [
    "#There is a way to use this function, pandas lets us use a method called apply\n",
    "\n",
    "\n",
    "df_chipotle['floatprice']=df_chipotle['item_price'].apply(dollartofloat)\n",
    "df_chipotle.head()"
   ]
  },
  {
   "cell_type": "code",
   "execution_count": null,
   "id": "a759ce3a-deb0-4f87-8a67-8a5e538e9b7e",
   "metadata": {},
   "outputs": [],
   "source": [
    "#Let's drop it and make it in a single line\n",
    "df_chipotle.drop(columns=['floatprice'], inplace=True)\n"
   ]
  },
  {
   "cell_type": "code",
   "execution_count": null,
   "id": "4c92ddef-2c61-4f46-a907-9075a4feebf8",
   "metadata": {},
   "outputs": [],
   "source": [
    "df_chipotle['floatprice']=df_chipotle['item_price'].apply(lambda x: float(x.replace(\"$\",\"\").replace(\" \",\"\")) )\n",
    "df_chipotle.head()"
   ]
  },
  {
   "cell_type": "markdown",
   "id": "9dad8983-d6bd-4bc5-9245-ffc15dd48c4a",
   "metadata": {},
   "source": [
    "This is all good and nice, but I want to start using this table for something useful...For example, I'd like to know how much each person paid for each order and have it in a dataframe"
   ]
  },
  {
   "cell_type": "markdown",
   "id": "981c23f6-492e-40f8-af86-313d787e7877",
   "metadata": {},
   "source": [
    "## Grouping"
   ]
  },
  {
   "cell_type": "code",
   "execution_count": null,
   "id": "5bdb52f1-e910-45ba-a3cb-4fc8708bae39",
   "metadata": {},
   "outputs": [],
   "source": [
    "# First let's get the revenue per item\n",
    "\n",
    "df_chipotle['rev_item']=df_chipotle['quantity']*df_chipotle['floatprice']\n",
    "df_chipotle.head()\n"
   ]
  },
  {
   "cell_type": "markdown",
   "id": "e55cd9fe-087e-46df-94a7-2c14ad6845e4",
   "metadata": {},
   "source": [
    "We can identify each order by order_id! So all we need to have is the sum of revenue per item!"
   ]
  },
  {
   "cell_type": "code",
   "execution_count": null,
   "id": "79f5e296-49cd-4387-94b0-5f470deb4fba",
   "metadata": {},
   "outputs": [],
   "source": [
    "df_chipotle.groupby('order_id').sum()"
   ]
  },
  {
   "cell_type": "code",
   "execution_count": null,
   "id": "0ba0b6c6-c191-4d98-81da-0d1a77c297da",
   "metadata": {},
   "outputs": [],
   "source": [
    "df_chipotle.groupby('order_id')['rev_item'].sum()"
   ]
  },
  {
   "cell_type": "code",
   "execution_count": null,
   "id": "14371499-6b02-45c4-8b90-35667777d42d",
   "metadata": {},
   "outputs": [],
   "source": [
    "df_order=df_chipotle.groupby('order_id')['rev_item'].sum().reset_index()\n",
    "\n",
    "df_order.head()"
   ]
  },
  {
   "cell_type": "code",
   "execution_count": null,
   "id": "6165fb56-29a2-4c57-a537-35daa4eab9e3",
   "metadata": {},
   "outputs": [],
   "source": [
    "df_order.rename(columns={'rev_item':'rev_order'}, inplace=True)\n"
   ]
  },
  {
   "cell_type": "code",
   "execution_count": null,
   "id": "313b7cdb-06e3-4937-a334-43dec6f54483",
   "metadata": {},
   "outputs": [],
   "source": [
    "df_order.head()"
   ]
  },
  {
   "cell_type": "markdown",
   "id": "b88a51f1-2458-475a-8144-483cc790c764",
   "metadata": {},
   "source": [
    "Can we do better? Can we create a new dataframe that on top of all of this gives us not only the revenue for the order, but the average revenue per item and the max revenue per item for each order? "
   ]
  },
  {
   "cell_type": "code",
   "execution_count": null,
   "id": "a4ed1bc0-ea15-45fa-b4ec-1f3854d37d80",
   "metadata": {},
   "outputs": [],
   "source": [
    "df_chipotle.groupby('order_id')['rev_item'].agg(rev_order='sum', \n",
    "                                               ave_item_rev=np.mean,\n",
    "                                               max_item_rev=np.max)\n",
    "                           "
   ]
  },
  {
   "cell_type": "code",
   "execution_count": null,
   "id": "778fe6cd-29d3-447f-8446-66fb18e3c34f",
   "metadata": {},
   "outputs": [],
   "source": [
    "df_order_detail=df_chipotle.groupby('order_id')['rev_item'].agg(rev_order='sum', \n",
    "                                               ave_item_rev=np.mean,\n",
    "                                               max_item_rev=np.max).reset_index()\n",
    "                           "
   ]
  },
  {
   "cell_type": "code",
   "execution_count": null,
   "id": "a4b23350-00c5-4477-a43e-a30724347e8c",
   "metadata": {},
   "outputs": [],
   "source": [
    "df_order_detail"
   ]
  },
  {
   "cell_type": "markdown",
   "id": "1ec44b19-7a3d-4f5c-aebb-cb2913d82301",
   "metadata": {},
   "source": [
    "WOOPS! I wanted to get the standard deviation too but I forgot. Let me make a new goupby for it"
   ]
  },
  {
   "cell_type": "code",
   "execution_count": null,
   "id": "3cbf3fec-56af-4fdb-81fe-ba5c746afe96",
   "metadata": {},
   "outputs": [],
   "source": [
    "df_std_chipotle=df_chipotle.groupby('order_id')['rev_item'].agg(\n",
    "    std_item_rev=np.std).reset_index() \n",
    "df_std_chipotle.head()                                               "
   ]
  },
  {
   "cell_type": "code",
   "execution_count": null,
   "id": "98824093-9925-449f-87f0-a874649e54eb",
   "metadata": {},
   "outputs": [],
   "source": [
    "#Why a NaN\n",
    "df_chipotle[df_chipotle.order_id==2]"
   ]
  },
  {
   "cell_type": "code",
   "execution_count": null,
   "id": "45221531-6e3e-448c-ba74-1fc4bf419e6d",
   "metadata": {},
   "outputs": [],
   "source": [
    "# we will deal with this later\n",
    "#For now let's join tables together\n",
    "\n",
    "df_merged=df_order_detail.merge(df_std_chipotle, how='inner', on='order_id')\n",
    "df_merged.head()"
   ]
  },
  {
   "cell_type": "code",
   "execution_count": null,
   "id": "cb875189-12ea-4039-b897-349392f1fdb8",
   "metadata": {},
   "outputs": [],
   "source": [
    "#why not add it to our large dataframe making it the left!\n",
    "\n",
    "df_large_left=df_chipotle.merge(df_merged, how='left', on='order_id')\n",
    "df_large_left.head()"
   ]
  },
  {
   "cell_type": "code",
   "execution_count": null,
   "id": "ffc3cbac-54dd-44e4-8422-7487ca2923a1",
   "metadata": {},
   "outputs": [],
   "source": []
  }
 ],
 "metadata": {
  "kernelspec": {
   "display_name": "Python 3",
   "language": "python",
   "name": "python3"
  },
  "language_info": {
   "codemirror_mode": {
    "name": "ipython",
    "version": 3
   },
   "file_extension": ".py",
   "mimetype": "text/x-python",
   "name": "python",
   "nbconvert_exporter": "python",
   "pygments_lexer": "ipython3",
   "version": "3.8.8"
  }
 },
 "nbformat": 4,
 "nbformat_minor": 5
}
